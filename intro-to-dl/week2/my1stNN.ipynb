{
 "cells": [
  {
   "cell_type": "code",
   "execution_count": 1,
   "metadata": {},
   "outputs": [
    {
     "name": "stderr",
     "output_type": "stream",
     "text": [
      "Using TensorFlow backend.\n"
     ]
    },
    {
     "name": "stdout",
     "output_type": "stream",
     "text": [
      "Downloading data from https://s3.amazonaws.com/img-datasets/mnist.npz\n",
      "11493376/11490434 [==============================] - 0s     \n",
      "(50000, 28, 28) (50000,)\n"
     ]
    },
    {
     "data": {
      "image/png": "[encoded data removed]",
      "text/plain": [
       "<matplotlib.figure.Figure at 0x7f469b741fd0>"
      ]
     },
     "metadata": {},
     "output_type": "display_data"
    }
   ],
   "source": [
    "from preprocessed_mnist import load_dataset\n",
    "X_train, y_train, X_val, y_val, X_test, y_test = load_dataset()\n",
    "print(X_train.shape, y_train.shape)\n",
    "import matplotlib.pyplot as plt\n",
    "%matplotlib inline\n",
    "plt.imshow(X_train[0], cmap=\"Greys\");"
   ]
  },
  {
   "cell_type": "code",
   "execution_count": 3,
   "metadata": {
    "collapsed": true
   },
   "outputs": [],
   "source": [
    "import tensorflow as tf\n",
    "import numpy as np\n",
    "import matplotlib.pyplot as plt\n",
    "%matplotlib inline"
   ]
  },
  {
   "cell_type": "code",
   "execution_count": 4,
   "metadata": {
    "collapsed": true
   },
   "outputs": [],
   "source": [
    "# parameters\n",
    "num_classes = 10\n",
    "h_c1 = 200\n",
    "h_c2 = 50\n",
    "lr_rate = 1e-3\n",
    "batch_size = 100"
   ]
  },
  {
   "cell_type": "code",
   "execution_count": 18,
   "metadata": {},
   "outputs": [
    {
     "name": "stdout",
     "output_type": "stream",
     "text": [
      "(50000, 784)\n",
      "(10000, 784)\n"
     ]
    }
   ],
   "source": [
    "X_train_expand = X_train.reshape(X_train.shape[0], -1)\n",
    "X_test_expand = X_test.reshape(X_test.shape[0], -1)\n",
    "y_train_onehot = np.zeros((y_train.shape[0], 10))\n",
    "y_train_onehot[range(y_train.shape[0]),y_train] = 1\n",
    "y_test_onehot = np.zeros((y_test.shape[0], 10))\n",
    "y_test_onehot[range(y_test.shape[0]), y_test] = 1\n",
    "print(X_train_expand.shape)\n",
    "print(X_test_expand.shape)"
   ]
  },
  {
   "cell_type": "code",
   "execution_count": 26,
   "metadata": {},
   "outputs": [],
   "source": [
    "#placeholder\n",
    "X_placeholder = tf.placeholder(tf.float32, [None, X_train_expand.shape[1]])\n",
    "y_placeholder = tf.placeholder(tf.float32, [None,num_classes])                                            \n",
    "                            \n",
    "# layer 1 \n",
    "W1 = tf.Variable(tf.truncated_normal([X_train_expand.shape[1], h_c1], stddev=0.01))\n",
    "b1 = tf.Variable(tf.zeros(h_c1))\n",
    "h1 = tf.nn.relu(tf.matmul(X_placeholder, W1) + b1)\n",
    "\n",
    "# layer 2 \n",
    "W2 = tf.Variable(tf.truncated_normal([h_c1, h_c2], stddev=0.01))\n",
    "b2 = tf.Variable(tf.zeros(h_c2))\n",
    "h2 = tf.nn.relu(tf.matmul(h1, W2) + b2)\n",
    "\n",
    "# final layer \n",
    "W3 = tf.Variable(tf.truncated_normal([h_c2, num_classes], stddev=0.01))\n",
    "b3 = tf.Variable(tf.zeros(num_classes))\n",
    "logits = tf.matmul(h2, W3) + b3\n",
    "\n",
    "#predict\n",
    "predictions = tf.nn.softmax(logits)"
   ]
  },
  {
   "cell_type": "code",
   "execution_count": 27,
   "metadata": {},
   "outputs": [],
   "source": [
    "# loss and optimizer\n",
    "loss = tf.reduce_sum(tf.nn.softmax_cross_entropy_with_logits(labels=y_placeholder, logits=logits))\n",
    "optimizer = tf.train.AdamOptimizer(learning_rate=lr_rate).minimize(loss)\n",
    "accuracy = tf.reduce_sum(tf.cast(tf.equal(tf.argmax(predictions, 1), tf.argmax(y_placeholder, 1)), tf.float32))"
   ]
  },
  {
   "cell_type": "code",
   "execution_count": 28,
   "metadata": {},
   "outputs": [
    {
     "name": "stdout",
     "output_type": "stream",
     "text": [
      "epoch 0 step 400 train_loss:43.828025817871094\n",
      "epoch 1 step 800 train_loss:37.05624771118164\n",
      "epoch 2 step 1200 train_loss:12.427605628967285\n",
      "epoch 3 step 1600 train_loss:6.369599342346191\n",
      "epoch 3 step 2000 train_loss:14.270720481872559\n",
      "epoch 4 step 2400 train_loss:11.048868179321289\n",
      "epoch 5 step 2800 train_loss:6.932413101196289\n",
      "epoch 6 step 3200 train_loss:2.972724676132202\n",
      "epoch 7 step 3600 train_loss:2.449965000152588\n",
      "epoch 7 step 4000 train_loss:4.816091537475586\n",
      "epoch 8 step 4400 train_loss:2.891862630844116\n",
      "epoch 9 step 4800 train_loss:2.538396120071411\n",
      "epoch 10 step 5200 train_loss:0.96541428565979\n",
      "epoch 11 step 5600 train_loss:0.7473624348640442\n",
      "epoch 11 step 6000 train_loss:1.5540337562561035\n",
      "epoch 12 step 6400 train_loss:0.5709091424942017\n",
      "epoch 13 step 6800 train_loss:0.8219940066337585\n",
      "epoch 14 step 7200 train_loss:0.4943014979362488\n",
      "epoch 15 step 7600 train_loss:0.19409379363059998\n",
      "epoch 15 step 8000 train_loss:0.8078073859214783\n",
      "epoch 16 step 8400 train_loss:0.9695976972579956\n",
      "epoch 17 step 8800 train_loss:0.35149770975112915\n",
      "epoch 18 step 9200 train_loss:0.2682330012321472\n",
      "epoch 19 step 9600 train_loss:0.35814300179481506\n",
      "epoch 19 step 10000 train_loss:0.36762240529060364\n",
      "epoch 20 step 10400 train_loss:1.2646859884262085\n",
      "epoch 21 step 10800 train_loss:0.06842043250799179\n",
      "epoch 22 step 11200 train_loss:0.07487662881612778\n",
      "epoch 23 step 11600 train_loss:0.36098212003707886\n",
      "epoch 23 step 12000 train_loss:0.08298999071121216\n",
      "epoch 24 step 12400 train_loss:0.07909910380840302\n",
      "epoch 25 step 12800 train_loss:1.4165343046188354\n",
      "epoch 26 step 13200 train_loss:0.0742189809679985\n",
      "epoch 27 step 13600 train_loss:0.04593372717499733\n",
      "epoch 27 step 14000 train_loss:0.05625155568122864\n",
      "epoch 28 step 14400 train_loss:0.020267276093363762\n",
      "epoch 29 step 14800 train_loss:1.1177411079406738\n",
      "epoch 30 step 15200 train_loss:0.14341536164283752\n",
      "epoch 31 step 15600 train_loss:0.01148843951523304\n",
      "epoch 31 step 16000 train_loss:0.01965874247252941\n",
      "epoch 32 step 16400 train_loss:0.014195184223353863\n",
      "epoch 33 step 16800 train_loss:0.042267438024282455\n",
      "epoch 34 step 17200 train_loss:0.07298832386732101\n",
      "epoch 35 step 17600 train_loss:0.06470353156328201\n",
      "epoch 35 step 18000 train_loss:0.14889155328273773\n",
      "epoch 36 step 18400 train_loss:0.03060271218419075\n",
      "epoch 37 step 18800 train_loss:0.02295885980129242\n",
      "epoch 38 step 19200 train_loss:0.19395345449447632\n",
      "epoch 39 step 19600 train_loss:0.0033952309750020504\n",
      "epoch 39 step 20000 train_loss:0.052095793187618256\n",
      "epoch 40 step 20400 train_loss:0.029910165816545486\n",
      "epoch 41 step 20800 train_loss:0.013898550532758236\n",
      "epoch 42 step 21200 train_loss:0.14250756800174713\n",
      "epoch 43 step 21600 train_loss:0.1903984248638153\n",
      "epoch 43 step 22000 train_loss:0.10505497455596924\n",
      "epoch 44 step 22400 train_loss:0.0008803976234048605\n",
      "epoch 45 step 22800 train_loss:0.012642979621887207\n",
      "epoch 46 step 23200 train_loss:0.0008357918122783303\n",
      "epoch 47 step 23600 train_loss:0.00156562146730721\n",
      "epoch 47 step 24000 train_loss:0.0012599860783666372\n",
      "epoch 48 step 24400 train_loss:0.0008079803083091974\n",
      "epoch 49 step 24800 train_loss:0.003471006639301777\n",
      "epoch 50 step 25200 train_loss:0.00024031687644310296\n",
      "epoch 51 step 25600 train_loss:0.001130858901888132\n",
      "epoch 51 step 26000 train_loss:0.0009115535649470985\n",
      "epoch 52 step 26400 train_loss:0.0008310694829560816\n",
      "epoch 53 step 26800 train_loss:0.0012370669282972813\n",
      "epoch 54 step 27200 train_loss:0.0001336303976131603\n",
      "epoch 55 step 27600 train_loss:0.0005073263309895992\n",
      "epoch 55 step 28000 train_loss:0.0006677162018604577\n",
      "epoch 56 step 28400 train_loss:0.000523448281455785\n",
      "epoch 57 step 28800 train_loss:0.00043103809002786875\n",
      "epoch 58 step 29200 train_loss:7.498134073102847e-05\n",
      "epoch 59 step 29600 train_loss:0.0002179097500629723\n",
      "epoch 59 step 30000 train_loss:0.0004457949544303119\n",
      "epoch 60 step 30400 train_loss:0.00026032543973997235\n",
      "epoch 61 step 30800 train_loss:0.00014912788174115121\n",
      "epoch 62 step 31200 train_loss:4.506051118369214e-05\n",
      "epoch 63 step 31600 train_loss:0.00010085006942972541\n",
      "epoch 63 step 32000 train_loss:0.0001968054857570678\n",
      "epoch 64 step 32400 train_loss:9.727141150506213e-05\n",
      "epoch 65 step 32800 train_loss:6.079621016397141e-05\n",
      "epoch 66 step 33200 train_loss:2.4437698812107556e-05\n",
      "epoch 67 step 33600 train_loss:4.8517948016524315e-05\n",
      "epoch 67 step 34000 train_loss:7.164363341871649e-05\n",
      "epoch 68 step 34400 train_loss:3.612000364228152e-05\n",
      "epoch 69 step 34800 train_loss:2.4676237444509752e-05\n"
     ]
    }
   ],
   "source": [
    "#training\n",
    "epochs = 70\n",
    "training_loss = []\n",
    "validation_loss = []\n",
    "validation_accuracy = []\n",
    "\n",
    "with tf.Session() as sess:\n",
    "\n",
    "    sess.run(tf.global_variables_initializer())\n",
    "    iteration = 0\n",
    "    \n",
    "    for epoch in range(epochs):\n",
    "        for idx in range(0, X_train.shape[0], batch_size):\n",
    "            X_batch = X_train_expand[idx:idx + batch_size, :]\n",
    "            y_batch = y_train_onehot[idx: idx + batch_size, :]\n",
    "            feed_dict = {X_placeholder: X_batch, y_placeholder: y_batch}\n",
    "            _ = sess.run(optimizer, feed_dict=feed_dict)\n",
    "            iteration += 1\n",
    "            if iteration % 100 == 0:\n",
    "                training_loss.append(sess.run(loss, feed_dict=feed_dict))\n",
    "                validation_loss.append(sess.run(loss, \n",
    "                                                feed_dict={X_placeholder: X_test_expand,\n",
    "                                                           y_placeholder: y_test_onehot}))\n",
    "                validation_accuracy.append(sess.run(accuracy,\n",
    "                                                    feed_dict={X_placeholder: X_test_expand,\n",
    "                                                           y_placeholder: y_test_onehot}))\n",
    "            if iteration % 400 == 0:\n",
    "                print(\"epoch {} step {} train_loss:{}\".format(epoch, iteration, sess.run(loss, feed_dict=feed_dict)))"
   ]
  },
  {
   "cell_type": "code",
   "execution_count": 32,
   "metadata": {},
   "outputs": [
    {
     "data": {
      "image/png": "[encoded data removed]",
      "text/plain": [
       "<matplotlib.figure.Figure at 0x7f468867a320>"
      ]
     },
     "metadata": {},
     "output_type": "display_data"
    }
   ],
   "source": [
    "plt.plot(list(range(len(training_loss))), training_loss)\n",
    "plt.plot(list(range(len(validation_loss))), validation_loss)\n",
    "plt.show()"
   ]
  },
  {
   "cell_type": "code",
   "execution_count": 36,
   "metadata": {},
   "outputs": [
    {
     "data": {
      "image/png": "[encoded data removed]",
      "text/plain": [
       "<matplotlib.figure.Figure at 0x7f46817995c0>"
      ]
     },
     "metadata": {},
     "output_type": "display_data"
    }
   ],
   "source": [
    "plt.plot(list(range(len(validation_accuracy))),validation_accuracy)\n",
    "plt.show()"
   ]
  },
  {
   "cell_type": "code",
   "execution_count": null,
   "metadata": {
    "collapsed": true
   },
   "outputs": [],
   "source": []
  }
 ],
 "metadata": {
  "kernelspec": {
   "display_name": "Python 3",
   "language": "python",
   "name": "python3"
  },
  "language_info": {
   "codemirror_mode": {
    "name": "ipython",
    "version": 3
   },
   "file_extension": ".py",
   "mimetype": "text/x-python",
   "name": "python",
   "nbconvert_exporter": "python",
   "pygments_lexer": "ipython3",
   "version": "3.6.0"
  }
 },
 "nbformat": 4,
 "nbformat_minor": 2
}

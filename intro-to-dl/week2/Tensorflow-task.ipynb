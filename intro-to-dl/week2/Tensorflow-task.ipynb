{
 "cells": [
  {
   "cell_type": "markdown",
   "metadata": {
    "slideshow": {
     "slide_type": "slide"
    }
   },
   "source": [
    "# Going deeper with Tensorflow\n",
    "\n",
    "In this video, we're going to study the tools you'll use to build deep learning models. Namely, [Tensorflow](https://www.tensorflow.org/).\n",
    "\n",
    "If you're running this notebook outside the course environment, you'll need to install tensorflow:\n",
    "* `pip install tensorflow` should install cpu-only TF on Linux & Mac OS\n",
    "* If you want GPU support from offset, see [TF install page](https://www.tensorflow.org/install/)"
   ]
  },
  {
   "cell_type": "code",
   "execution_count": 1,
   "metadata": {
    "collapsed": true
   },
   "outputs": [],
   "source": [
    "import sys\n",
    "sys.path.append(\"..\")\n",
    "import grading"
   ]
  },
  {
   "cell_type": "markdown",
   "metadata": {},
   "source": [
    "# Visualization"
   ]
  },
  {
   "cell_type": "markdown",
   "metadata": {},
   "source": [
    "Plase note that if you are running on the Coursera platform, you won't be able to access the tensorboard instance due to the network setup there. If you run the notebook locally, you should be able to access TensorBoard on http://127.0.0.1:7007/"
   ]
  },
  {
   "cell_type": "code",
   "execution_count": 3,
   "metadata": {},
   "outputs": [
    {
     "name": "stdout",
     "output_type": "stream",
     "text": [
      "/bin/sh: 1: killall: not found\r\n"
     ]
    }
   ],
   "source": [
    "! killall tensorboard\n",
    "import os\n",
    "os.system(\"tensorboard --logdir=/tmp/tboard --port=7007 &\");"
   ]
  },
  {
   "cell_type": "code",
   "execution_count": 2,
   "metadata": {
    "collapsed": true
   },
   "outputs": [],
   "source": [
    "import tensorflow as tf\n",
    "s = tf.InteractiveSession()"
   ]
  },
  {
   "cell_type": "markdown",
   "metadata": {},
   "source": [
    "# Warming up\n",
    "For starters, let's implement a python function that computes the sum of squares of numbers from 0 to N-1."
   ]
  },
  {
   "cell_type": "code",
   "execution_count": 4,
   "metadata": {
    "collapsed": true
   },
   "outputs": [],
   "source": [
    "import numpy as np\n",
    "def sum_sin(N):\n",
    "    return np.sum(np.arange(N)**2)"
   ]
  },
  {
   "cell_type": "code",
   "execution_count": 5,
   "metadata": {},
   "outputs": [
    {
     "name": "stdout",
     "output_type": "stream",
     "text": [
      "CPU times: user 292 ms, sys: 316 ms, total: 608 ms\n",
      "Wall time: 708 ms\n"
     ]
    },
    {
     "data": {
      "text/plain": [
       "662921401752298880"
      ]
     },
     "execution_count": 5,
     "metadata": {},
     "output_type": "execute_result"
    }
   ],
   "source": [
    "%%time\n",
    "sum_sin(10**8)"
   ]
  },
  {
   "cell_type": "markdown",
   "metadata": {},
   "source": [
    "# Tensoflow teaser\n",
    "\n",
    "Doing the very same thing"
   ]
  },
  {
   "cell_type": "code",
   "execution_count": 6,
   "metadata": {
    "collapsed": true
   },
   "outputs": [],
   "source": [
    "# An integer parameter\n",
    "N = tf.placeholder('int64', name=\"input_to_your_function\")\n",
    "\n",
    "# A recipe on how to produce the same result\n",
    "result = tf.reduce_sum(tf.range(N)**2)"
   ]
  },
  {
   "cell_type": "code",
   "execution_count": 7,
   "metadata": {},
   "outputs": [
    {
     "data": {
      "text/plain": [
       "<tf.Tensor 'Sum:0' shape=() dtype=int64>"
      ]
     },
     "execution_count": 7,
     "metadata": {},
     "output_type": "execute_result"
    }
   ],
   "source": [
    "result"
   ]
  },
  {
   "cell_type": "code",
   "execution_count": 8,
   "metadata": {},
   "outputs": [
    {
     "name": "stdout",
     "output_type": "stream",
     "text": [
      "CPU times: user 464 ms, sys: 120 ms, total: 584 ms\n",
      "Wall time: 450 ms\n"
     ]
    },
    {
     "data": {
      "text/plain": [
       "662921401752298880"
      ]
     },
     "execution_count": 8,
     "metadata": {},
     "output_type": "execute_result"
    }
   ],
   "source": [
    "%%time\n",
    "result.eval({N: 10**8})"
   ]
  },
  {
   "cell_type": "code",
   "execution_count": 9,
   "metadata": {
    "collapsed": true
   },
   "outputs": [],
   "source": [
    "writer = tf.summary.FileWriter(\"/tmp/tboard\", graph=s.graph)"
   ]
  },
  {
   "cell_type": "markdown",
   "metadata": {},
   "source": [
    "# How does it work?\n",
    "1. Define placeholders where you'll send inputs\n",
    "2. Make symbolic graph: a recipe for mathematical transformation of those placeholders\n",
    "3. Compute outputs of your graph with particular values for each placeholder\n",
    "  * `output.eval({placeholder:value})`\n",
    "  * `s.run(output, {placeholder:value})`\n",
    "\n",
    "So far there are two main entities: \"placeholder\" and \"transformation\"\n",
    "* Both can be numbers, vectors, matrices, tensors, etc.\n",
    "* Both can be int32/64, floats, booleans (uint8) of various size.\n",
    "\n",
    "* You can define new transformations as an arbitrary operation on placeholders and other transformations\n",
    " * `tf.reduce_sum(tf.arange(N)**2)` are 3 sequential transformations of placeholder `N`\n",
    " * There's a tensorflow symbolic version for every numpy function\n",
    "   * `a+b, a/b, a**b, ...` behave just like in numpy\n",
    "   * `np.mean` -> `tf.reduce_mean`\n",
    "   * `np.arange` -> `tf.range`\n",
    "   * `np.cumsum` -> `tf.cumsum`\n",
    "   * If if you can't find the op you need, see the [docs](https://www.tensorflow.org/api_docs/python).\n",
    "   \n",
    "`tf.contrib` has many high-level features, may be worth a look."
   ]
  },
  {
   "cell_type": "code",
   "execution_count": 10,
   "metadata": {
    "collapsed": true
   },
   "outputs": [],
   "source": [
    "with tf.name_scope(\"Placeholders_examples\"):\n",
    "    # Default placeholder that can be arbitrary float32\n",
    "    # scalar, vertor, matrix, etc.\n",
    "    arbitrary_input = tf.placeholder('float32')\n",
    "\n",
    "    # Input vector of arbitrary length\n",
    "    input_vector = tf.placeholder('float32', shape=(None,))\n",
    "\n",
    "    # Input vector that _must_ have 10 elements and integer type\n",
    "    fixed_vector = tf.placeholder('int32', shape=(10,))\n",
    "\n",
    "    # Matrix of arbitrary n_rows and 15 columns\n",
    "    # (e.g. a minibatch your data table)\n",
    "    input_matrix = tf.placeholder('float32', shape=(None, 15))\n",
    "    \n",
    "    # You can generally use None whenever you don't need a specific shape\n",
    "    input1 = tf.placeholder('float64', shape=(None, 100, None))\n",
    "    input2 = tf.placeholder('int32', shape=(None, None, 3, 224, 224))\n",
    "\n",
    "    # elementwise multiplication\n",
    "    double_the_vector = input_vector*2\n",
    "\n",
    "    # elementwise cosine\n",
    "    elementwise_cosine = tf.cos(input_vector)\n",
    "\n",
    "    # difference between squared vector and vector itself plus one\n",
    "    vector_squares = input_vector**2 - input_vector + 1"
   ]
  },
  {
   "cell_type": "code",
   "execution_count": 11,
   "metadata": {
    "collapsed": true
   },
   "outputs": [],
   "source": [
    "my_vector =  tf.placeholder('float32', shape=(None,), name=\"VECTOR_1\")\n",
    "my_vector2 = tf.placeholder('float32', shape=(None,))\n",
    "my_transformation = my_vector * my_vector2 / (tf.sin(my_vector) + 1)"
   ]
  },
  {
   "cell_type": "code",
   "execution_count": 12,
   "metadata": {},
   "outputs": [
    {
     "name": "stdout",
     "output_type": "stream",
     "text": [
      "Tensor(\"truediv:0\", shape=(?,), dtype=float32)\n"
     ]
    }
   ],
   "source": [
    "print(my_transformation)"
   ]
  },
  {
   "cell_type": "code",
   "execution_count": 13,
   "metadata": {},
   "outputs": [
    {
     "name": "stdout",
     "output_type": "stream",
     "text": [
      "[ 0.  1.  2.  3.  4.]\n"
     ]
    },
    {
     "data": {
      "text/plain": [
       "array([ 0.        ,  1.62913239,  2.09501147,  2.62899613,  0.        ], dtype=float32)"
      ]
     },
     "execution_count": 13,
     "metadata": {},
     "output_type": "execute_result"
    }
   ],
   "source": [
    "dummy = np.arange(5).astype('float32')\n",
    "print(dummy)\n",
    "my_transformation.eval({my_vector:dummy, my_vector2:dummy[::-1]})"
   ]
  },
  {
   "cell_type": "code",
   "execution_count": 14,
   "metadata": {
    "collapsed": true
   },
   "outputs": [],
   "source": [
    "writer.add_graph(my_transformation.graph)\n",
    "writer.flush()"
   ]
  },
  {
   "cell_type": "markdown",
   "metadata": {},
   "source": [
    "TensorBoard allows writing scalars, images, audio, histogram. You can read more on tensorboard usage [here](https://www.tensorflow.org/get_started/graph_viz)."
   ]
  },
  {
   "cell_type": "markdown",
   "metadata": {},
   "source": [
    "# Summary\n",
    "* Tensorflow is based on computation graphs\n",
    "* The graphs consist of placehlders and transformations"
   ]
  },
  {
   "cell_type": "markdown",
   "metadata": {},
   "source": [
    "# Mean squared error\n",
    "\n",
    "Your assignment is to implement mean squared error in tensorflow."
   ]
  },
  {
   "cell_type": "code",
   "execution_count": 15,
   "metadata": {
    "collapsed": true
   },
   "outputs": [],
   "source": [
    "with tf.name_scope(\"MSE\"):\n",
    "    y_true = tf.placeholder(\"float32\", shape=(None,), name=\"y_true\")\n",
    "    y_predicted = tf.placeholder(\"float32\", shape=(None,), name=\"y_predicted\")\n",
    "    # Your code goes here\n",
    "    # You want to use tf.reduce_mean\n",
    "    mse = tf.reduce_mean(tf.square(y_predicted - y_true))\n",
    "    # mse = tf.<...>\n",
    "def compute_mse(vector1, vector2):\n",
    "    return mse.eval({y_true: vector1, y_predicted: vector2})"
   ]
  },
  {
   "cell_type": "code",
   "execution_count": 16,
   "metadata": {
    "collapsed": true
   },
   "outputs": [],
   "source": [
    "writer.add_graph(mse.graph)\n",
    "writer.flush()"
   ]
  },
  {
   "cell_type": "markdown",
   "metadata": {},
   "source": [
    "Tests and result submission. Please use the credentials obtained from the Coursera assignment page."
   ]
  },
  {
   "cell_type": "code",
   "execution_count": 17,
   "metadata": {
    "collapsed": true
   },
   "outputs": [],
   "source": [
    "import submit"
   ]
  },
  {
   "cell_type": "code",
   "execution_count": 18,
   "metadata": {},
   "outputs": [
    {
     "name": "stdout",
     "output_type": "stream",
     "text": [
      "Submitted to Coursera platform. See results on assignment page!\n"
     ]
    }
   ],
   "source": [
    "submit.submit_mse(compute_mse, 'nguyenthanhchinh96@gmail.com', \n",
    "                 'Qjl29GwfFK1H2tPw')"
   ]
  },
  {
   "cell_type": "markdown",
   "metadata": {},
   "source": [
    "# Variables\n",
    "\n",
    "The inputs and transformations have no value outside function call. This isn't too comfortable if you want your model to have parameters (e.g. network weights) that are always present, but can change their value over time.\n",
    "\n",
    "Tensorflow solves this with `tf.Variable` objects.\n",
    "* You can assign variable a value at any time in your graph\n",
    "* Unlike placeholders, there's no need to explicitly pass values to variables when `s.run(...)`-ing\n",
    "* You can use variables the same way you use transformations \n",
    " "
   ]
  },
  {
   "cell_type": "code",
   "execution_count": 19,
   "metadata": {
    "collapsed": true
   },
   "outputs": [],
   "source": [
    "# Creating a shared variable\n",
    "shared_vector_1 = tf.Variable(initial_value=np.ones(5),\n",
    "                              name=\"example_variable\")"
   ]
  },
  {
   "cell_type": "code",
   "execution_count": 20,
   "metadata": {},
   "outputs": [
    {
     "name": "stdout",
     "output_type": "stream",
     "text": [
      "Initial value [ 1.  1.  1.  1.  1.]\n"
     ]
    }
   ],
   "source": [
    "# Initialize variable(s) with initial values\n",
    "s.run(tf.global_variables_initializer())\n",
    "\n",
    "# Evaluating shared variable (outside symbolicd graph)\n",
    "print(\"Initial value\", s.run(shared_vector_1))\n",
    "\n",
    "# Within symbolic graph you use them just\n",
    "# as any other inout or transformation, not \"get value\" needed"
   ]
  },
  {
   "cell_type": "code",
   "execution_count": 21,
   "metadata": {},
   "outputs": [
    {
     "name": "stdout",
     "output_type": "stream",
     "text": [
      "New value [ 0.  1.  2.  3.  4.]\n"
     ]
    }
   ],
   "source": [
    "# Setting a new value\n",
    "s.run(shared_vector_1.assign(np.arange(5)))\n",
    "\n",
    "# Getting that new value\n",
    "print(\"New value\", s.run(shared_vector_1))"
   ]
  },
  {
   "cell_type": "markdown",
   "metadata": {},
   "source": [
    "# tf.gradients - why graphs matter\n",
    "* Tensorflow can compute derivatives and gradients automatically using the computation graph\n",
    "* True to its name it can manage matrix derivatives\n",
    "* Gradients are computed as a product of elementary derivatives via the chain rule:\n",
    "\n",
    "$$ {\\partial f(g(x)) \\over \\partial x} = {\\partial f(g(x)) \\over \\partial g(x)}\\cdot {\\partial g(x) \\over \\partial x} $$\n",
    "\n",
    "It can get you the derivative of any graph as long as it knows how to differentiate elementary operations"
   ]
  },
  {
   "cell_type": "code",
   "execution_count": 22,
   "metadata": {
    "collapsed": true
   },
   "outputs": [],
   "source": [
    "my_scalar = tf.placeholder('float32')\n",
    "\n",
    "scalar_squared = my_scalar**2\n",
    "\n",
    "# A derivative of scalar_squared by my_scalar\n",
    "derivative = tf.gradients(scalar_squared, [my_scalar, ])"
   ]
  },
  {
   "cell_type": "code",
   "execution_count": 23,
   "metadata": {},
   "outputs": [
    {
     "data": {
      "text/plain": [
       "[<tf.Tensor 'gradients/pow_1_grad/Reshape:0' shape=<unknown> dtype=float32>]"
      ]
     },
     "execution_count": 23,
     "metadata": {},
     "output_type": "execute_result"
    }
   ],
   "source": [
    "derivative"
   ]
  },
  {
   "cell_type": "code",
   "execution_count": 24,
   "metadata": {},
   "outputs": [
    {
     "data": {
      "image/png": "[encoded data removed]",
      "text/plain": [
       "<matplotlib.figure.Figure at 0x7f88392cbda0>"
      ]
     },
     "metadata": {},
     "output_type": "display_data"
    }
   ],
   "source": [
    "import matplotlib.pyplot as plt\n",
    "%matplotlib inline\n",
    "\n",
    "x = np.linspace(-3, 3)\n",
    "x_squared, x_squared_der = s.run([scalar_squared, derivative[0]],\n",
    "                                 {my_scalar:x})\n",
    "\n",
    "plt.plot(x, x_squared,label=\"$x^2$\")\n",
    "plt.plot(x, x_squared_der, label=r\"$\\frac{dx^2}{dx}$\")\n",
    "plt.legend();"
   ]
  },
  {
   "cell_type": "markdown",
   "metadata": {},
   "source": [
    "# Why that rocks"
   ]
  },
  {
   "cell_type": "code",
   "execution_count": 25,
   "metadata": {
    "collapsed": true
   },
   "outputs": [],
   "source": [
    "my_vector = tf.placeholder('float32', [None])\n",
    "# Compute the gradient of the next weird function over my_scalar and my_vector\n",
    "# Warning! Trying to understand the meaning of that function may result in permanent brain damage\n",
    "weird_psychotic_function = tf.reduce_mean(\n",
    "    (my_vector+my_scalar)**(1+tf.nn.moments(my_vector,[0])[1]) + \n",
    "    1./ tf.atan(my_scalar))/(my_scalar**2 + 1) + 0.01*tf.sin(\n",
    "    2*my_scalar**1.5)*(tf.reduce_sum(my_vector)* my_scalar**2\n",
    "                      )*tf.exp((my_scalar-4)**2)/(\n",
    "    1+tf.exp((my_scalar-4)**2))*(1.-(tf.exp(-(my_scalar-4)**2)\n",
    "                                    )/(1+tf.exp(-(my_scalar-4)**2)))**2\n",
    "\n",
    "der_by_scalar = tf.gradients(weird_psychotic_function, my_scalar)\n",
    "der_by_vector = tf.gradients(weird_psychotic_function, my_vector)"
   ]
  },
  {
   "cell_type": "code",
   "execution_count": 26,
   "metadata": {},
   "outputs": [
    {
     "data": {
      "image/png": "[encoded data removed]",
      "text/plain": [
       "<matplotlib.figure.Figure at 0x7f8838459b70>"
      ]
     },
     "metadata": {},
     "output_type": "display_data"
    }
   ],
   "source": [
    "# Plotting the derivative\n",
    "scalar_space = np.linspace(1, 7, 100)\n",
    "\n",
    "y = [s.run(weird_psychotic_function, {my_scalar:x, my_vector:[1, 2, 3]})\n",
    "     for x in scalar_space]\n",
    "\n",
    "plt.plot(scalar_space, y, label='function')\n",
    "\n",
    "y_der_by_scalar = [s.run(der_by_scalar,\n",
    "                         {my_scalar:x, my_vector:[1, 2, 3]})\n",
    "                   for x in scalar_space]\n",
    "\n",
    "plt.plot(scalar_space, y_der_by_scalar, label='derivative')\n",
    "plt.grid()\n",
    "plt.legend();"
   ]
  },
  {
   "cell_type": "markdown",
   "metadata": {},
   "source": [
    "# Almost done - optimizers\n",
    "\n",
    "While you can perform gradient descent by hand with automatic grads from above, tensorflow also has some optimization methods implemented for you. Recall momentum & rmsprop?"
   ]
  },
  {
   "cell_type": "code",
   "execution_count": 27,
   "metadata": {
    "collapsed": true
   },
   "outputs": [],
   "source": [
    "y_guess = tf.Variable(np.zeros(2, dtype='float32'))\n",
    "y_true = tf.range(1, 3, dtype='float32')\n",
    "loss = tf.reduce_mean((y_guess - y_true + tf.random_normal([2]))**2) \n",
    "#loss = tf.reduce_mean((y_guess - y_true)**2) \n",
    "optimizer = tf.train.MomentumOptimizer(0.01, 0.5).minimize(\n",
    "    loss, var_list=y_guess)"
   ]
  },
  {
   "cell_type": "code",
   "execution_count": 28,
   "metadata": {},
   "outputs": [
    {
     "data": {
      "image/png": "[encoded data removed]",
      "text/plain": [
       "<matplotlib.figure.Figure at 0x7f8831856cc0>"
      ]
     },
     "metadata": {},
     "output_type": "display_data"
    }
   ],
   "source": [
    "from matplotlib import animation, rc\n",
    "import matplotlib_utils\n",
    "from IPython.display import HTML\n",
    "\n",
    "fig, ax = plt.subplots()\n",
    "y_true_value = s.run(y_true)\n",
    "level_x = np.arange(0, 2, 0.02)\n",
    "level_y = np.arange(0, 3, 0.02)\n",
    "X, Y = np.meshgrid(level_x, level_y)\n",
    "Z = (X - y_true_value[0])**2 + (Y - y_true_value[1])**2\n",
    "ax.set_xlim(-0.02, 2)\n",
    "ax.set_ylim(-0.02, 3)\n",
    "s.run(tf.global_variables_initializer())\n",
    "ax.scatter(*s.run(y_true), c='red')\n",
    "contour = ax.contour(X, Y, Z, 10)\n",
    "ax.clabel(contour, inline=1, fontsize=10)\n",
    "line, = ax.plot([], [], lw=2)\n",
    "\n",
    "def init():\n",
    "    line.set_data([], [])\n",
    "    return (line,)\n",
    "\n",
    "guesses = [s.run(y_guess)]\n",
    "\n",
    "def animate(i):\n",
    "    s.run(optimizer)\n",
    "    guesses.append(s.run(y_guess))\n",
    "    line.set_data(*zip(*guesses))\n",
    "    return (line,)\n",
    "\n",
    "anim = animation.FuncAnimation(fig, animate, init_func=init,\n",
    "                               frames=400, interval=20, blit=True)"
   ]
  },
  {
   "cell_type": "code",
   "execution_count": 39,
   "metadata": {},
   "outputs": [
    {
     "data": {
      "text/html": [
       "<img src=\"data:image/jpeg;base64,/9j/4AAQSkZJRgABAQAAAQABAAD/2wBDAAIBAQEBAQIBAQECAgICAgQDAgICAgUEBAMEBgUGBgYFBgYGBwkIBgcJBwYGCAsICQoKCgoKBggLDAsKDAkKCgr/2wBDAQICAgICAgUDAwUKBwYHCgoKCgoKCgoKCgoKCgoKCgoKCgoKCgoKCgoKCgoKCgoKCgoKCgoKCgoKCgoKCgoKCgr/wAARCAEgAbADASIAAhEBAxEB/8QAHwAAAQUBAQEBAQEAAAAAAAAAAAECAwQFBgcICQoL/8QAtRAAAgEDAwIEAwUFBAQAAAF9AQIDAAQRBRIhMUEGE1FhByJxFDKBkaEII0KxwRVS0fAkM2JyggkKFhcYGRolJicoKSo0NTY3ODk6Q0RFRkdISUpTVFVWV1hZWmNkZWZnaGlqc3R1dnd4eXqDhIWGh4iJipKTlJWWl5iZmqKjpKWmp6ipqrKztLW2t7i5usLDxMXGx8jJytLT1NXW19jZ2uHi4%2BTl5ufo6erx8vP09fb3%2BPn6/8QAHwEAAwEBAQEBAQEBAQAAAAAAAAECAwQFBgcICQoL/8QAtREAAgECBAQDBAcFBAQAAQJ3AAECAxEEBSExBhJBUQdhcRMiMoEIFEKRobHBCSMzUvAVYnLRChYkNOEl8RcYGRomJygpKjU2Nzg5OkNERUZHSElKU1RVVldYWVpjZGVmZ2hpanN0dXZ3eHl6goOEhYaHiImKkpOUlZaXmJmaoqOkpaanqKmqsrO0tba3uLm6wsPExcbHyMnK0tPU1dbX2Nna4uPk5ebn6Onq8vP09fb3%2BPn6/9oADAMBAAIRAxEAPwD9/KKKKACiiigAooooAKKKKACiiigAooooAKKKKACiiigAooooAKKKKACiiigAooooAKKKKACiiigAooooAKKKKACiiigAooooAKKKKACiiigAooooAKKKKACiiigAooooAKKKKACiiigAooooAKKKKACiiigAorj/AAR%2B0J8A/iZ431n4Z/Dj44eD/EHiTw5JJH4h8P6J4ltbu%2B0t0kMTrcQRSNJAVkBQh1GGG088VZtfjb8Gb74p3PwLsvi54Ym8b2dgL288HRa/btqsFqQpE72gfzljIdPnK7fmXnkUAdPRRRQAUUUUAFFFFABRRRQAUUUUAFFFFABRRRQAUUUUAFFFFABRRRQAUUUUAFFFFABRRRQAUUUUAFFFFABRRRQAUUUUAFFFFABRRRQAUUUUAFFFFABRRRQAUUUUAFFFFABRRRQAUUUUAfIz%2BIrvxH/wUT0j40aVp3xZ1nw/4Z8I6/pWr2XiP4WX%2Bn6b4Ukmn0yMNpUo06CbVWu5bUtJiS%2BRUQyxvbxjbLy/g74f/EGL9qTw98N5fhR4oh17Qf2nfEnj3WvGcvhq6TSpvDt5oWp29tImpmP7NPIVvbDT/sqyGZPszMYxHCr19w0UAeIftr%2BO/wBp34WeFtF8bfAPx94D022ufF/hzw/qFj4v8B3uqyO%2Bq67Y6X9ojlttVsxGIkvDJ5ZR95jA3oDkWf8AhB/%2BChf/AEdB8Gf/AAw%2Brf8AzUUft4f8kQ0P/ss3w4/9TXRK9moA8Z/4Qf8A4KF/9HQfBn/ww%2Brf/NRVbWdA/bz8OaRdeIPEP7W3wQsLCyt3nvb29%2BB2qRQ28SAs0ju3ikKigAkkkAAZrtvhz8ddL%2BIPxC8S/DO58F65oGp%2BHTHIkWuxQx/2nZvJNEt5biOVy0JlglTLBW4UlQHUnwnxj4Y%2BMnh7SfE/w8%2BNujX%2BsaZ8RPFEvhqz8ZS%2BM3nuFS8eQ2EkOlRwrDawQsyQuY2EpCNOwKqSOulhHOfLN2emnVp9tbOyu/6dsZ1Uo3Svv/X3lHxB8b/27NYt/Cy/AD9pj4A%2BOLnxXqV3bWWPhRqtnboLWBp58y/8JHKfNCqAsRUFtwJKoC47H4Paz%2B3j8Zfh1p3xD0P9pT4RWkd4JYrqwvPgJqyz2V1DK8FxbSj/AISjiSKaOSNscbkOOKzfC3wc%2BK/xk%2BI914s8Z%2BCNU8Aatplhpl2de32sscviW1M0TXVtHHI3m272k8sT7wm%2BO5ZPvLlPb/gn8K5vhL4RuNG1LxGNX1PUtYvNV1nU0sVtUuLu5lMkjJCpYRoMgBdzHC5LMSSdcTTwtKlyxfvffvfqtNrbWflrpNKVWUrvb%2BvmeEeBx/wWR8RfFHWNF8XeKPgJ4e8H2FxPDpniCf4dapc32qbWxHMlnF4gKRRuAW/eThxkZTOcegf8IP8A8FC/%2BjoPgz/4YfVv/mor2aiuKclN3UUvS/6tm0U0tXc8Z/4Qf/goX/0dB8Gf/DD6t/8ANRR/wg//AAUL/wCjoPgz/wCGH1b/AOaivZqw/iF8T/ht8JPDsni/4qfEDRPDWlQ/63Ute1SGzgXjODJKyrn8amMZSdoq7K3PNf8AhB/%2BChf/AEdB8Gf/AAw%2Brf8AzUUf8IP/AMFC/wDo6D4M/wDhh9W/%2BaiuQn/4Kh/BjxncPpn7Lfwu%2BInxlulcx/afAPhOX%2BzEkzgB9SvDBaBf9pZH78HFNHiv/gqv8XOfD3wo%2BFXwe0%2BX5Wl8V65ceJtVjH98QWQgtVb2M7jPr1rs/s/ER/i2h/iaT%2B7WX/kpfJLrodj/AMIP/wAFC/8Ao6D4M/8Ahh9W/wDmorK8XH9tXwBpZ1vx5%2B2j8BNEsl%2B9eav8F9Stoh/wOTxUB%2BtYn/DB3xr%2BIH779or/AIKJfFfXc8PpvgZ7TwnYsvdStjGbgj63BODyTWt4R/4JZ/sB%2BE9UGv3H7NOh%2BItT6vqnjiWfX7h267i%2BoyTHOeeMY7Yo9lgYfHVcv8Mf1k1%2BQWgup4x4q/4KMP4T1I6Kf%2BCo37O2tXwyBZeD/gRrmuzE%2BgTTvEs5J7YxWb/w3d%2B3rr//ACSnwjrXi1H/AOPe8tP2O9a022l9CJdT8W2w2%2B/P0r7m8K%2BCvBvgTTRovgjwlpmjWa/dtNKsI7eIf8BjUD9K06Pa4CPw0pP1lb8Ix/ULw7HwPH8av%2BDgjxA4bwj%2BzN8I7OBz8k3jHRfsJx6lLTxNeMv0IzXffCy1/wCC7ev%2BI7T/AIW94p/ZT8N6I%2B77ZLo/hPxHqd9F8jbdsTalBE3z7QcyjAJPJAB%2BuqKieIpSjaNKK/8AAm/xl%2BgnJdjxn/hB/wDgoX/0dB8Gf/DD6t/81FH/AAg//BQv/o6D4M/%2BGH1b/wCaivZqK5STxn/hB/8AgoX/ANHQfBn/AMMPq3/zUUf8IP8A8FC/%2BjoPgz/4YfVv/mor2aigDxn/AIQf/goX/wBHQfBn/wAMPq3/AM1FH/CD/wDBQv8A6Og%2BDP8A4YfVv/mor2aigDxn/hB/%2BChf/R0HwZ/8MPq3/wA1FH/CD/8ABQvt%2B1B8Gf8Aww%2Brf/NRXs1FAHxJ4k1P/g4i8P7pdK0j9kfX0H3E0%2Bw8RW8jD3E96qg/8CNYI/aJ/wCC63hg%2Bd8Sv2XvBot1/wBZP4J8CQ6wf%2BAxyeMLaRv%2B%2BRX3zRXZHE0bWlRi/wDwJflJ/kVzLsfK/wCz98Sv%2BChPx%2B0zUr9/GnhvwRNpk8cU1j8Qf2YtX06WYspO6EjxY6TKMYLIxAJA71pfEvxF/wAFBvh74t8EeC7f9oL4M6he%2BNvEj6Xbr/wpTVYRaxRWNzeTXJ/4qZt4VLbbs%2BXLSKNwr6Wrzbx/%2BzPoHjv4y6D8dU%2BI/jDSdb8O288NhbafrKyaeVmiaKQtZ3EcsIYqeXRVf5R83XMU5Yd13Jq0bOy1lrZ27PfW/QFy3PBf2g/jh/wUO%2BCWpXmmaH8V/hH4kfQPDMniXxhJD8GdStk0nR42kDT5fxOTNKfJmKQqAWELfMOM60Hxz/aoufinb/CGL9rP4VnUrm7SyS7/AOGbde%2BwrfvaC8Wxa6/4SXyluTbETeUWB2%2B4xXb/ABj/AGSvHXxJ8U31xpHxXtLTR/Fvh6w0bx8l1ope9u7e1mkk3WsiSpHCZlkeGRWjZQrFkw2c8PqP7PH7SK6v4g8LaD4b06z0/TfFeu%2BL9B8S/wBqKf7Sv5bcppVsIBmSLySyrK78MLddmRIQnXTo4GpSScrO3e333XR9F038qSg0dT4Q179rv4gavqvh/wACftzfs%2Ba1qGhXAg1ux0r4O6hcTafISQEnRPFZaIkq2AwGcH0rf/4Qf/goX/0dB8Gf/DD6t/8ANRXF/sZeCtWfxvoXiLRPBHiDw54Z8GfCDTvCaQeJdBm0271HUzMJrl3imVXkEIiTE2NjyXc5RnBLH0f4l/ttfsqfBj4q2/wW%2BMHxs0fwr4gu7OO5s4vEbPZW1wjlgoS7mVbdnypygk3jIyBuGeethJKu6dFOVlfRXfntfyfW1yXHWyMz/hB/%2BChf/R0HwZ/8MPq3/wA1FH/CD/8ABQv/AKOg%2BDP/AIYfVv8A5qK9f0vVdM1zTodX0XUoLy0uYxJb3VrMskcqHoyspIYH1FT1x7EnjP8Awg//AAUL/wCjoPgz/wCGH1b/AOaivP8AwGP%2BCyGo/FLVfB/xL8UfATSfDkFvLNo3i/R/h1ql9HeYlVUhltpPEEMsEpRi5wHjGxhvPy5%2BpqKuM1FNOKd/XTzWv53Jaba1Pmf48eIv%2BCh/wV%2BHFx41sPjv8F9d1F7q3sdG0I/BrV7RtRvriVYbeBZB4jl2lpHUE7DhdzHhTV/4ieI/2wPhBo9pr3xY/ba%2BAnh2zvb2Ozgu9W%2BCmqQwtcPnam9/FIAzg8nA47V6B8VvgFqvxB%2BJ3hf4raX8TdStJfCt2bq28M30Edzo93N9nuIVmki2rKkyi5YrIkgA2qSjEDHC/tNQ/EnxB4m8NL4X%2BFfixvF2g3kEnhzWNKeCbQLk3Pl29/HeCQsUiSCSfJliRyozCxc7R10aVCqoQv3bezXZa6WVt9d3poZTnUhzO3a39I2bTwl/wUAv7WK/sP2qvgrPBPGskM0PwK1VkkQjIZSPFOCCDkEVJ/wg/wDwUL/6Og%2BDP/hh9W/%2BaivNdS%2BMuueHtf0z4uRfEy50Hw1a%2BK9StLHwjZ20MenQeGNKW4TULuaLZv377d3VwRtCRqnDkN7F8G/j74n%2BIXjWbwN47%2BFzeFr2Xw3a6/pVrLq4uZ3sppHj23MYjX7NOrpgx5cfNw5KsqzVwVWnHmWq/L/O11e2g4V4SdjjNS8Y/tm/CX40/Crw18Ufi38MPEvh/wAeeNbvQdTtNA%2BF2o6ReW4j8P6vqcc0VxNrl2gPm6dGjK0JysjYKkA19A14z%2B1B/wAlv/Zx/wCyzX3/AKhXiivZq4zYKKKKACiiigAooooAKKKKACiiigDxn9vD/kiGh/8AZZvhx/6muiV0/gH9pT4cfFD4t%2BIvhB4Dg1jUbnwoGj17Wo9HlXS7a8V1VrEXTAJJcru3MibtoByQRiuY/bw/5Ihof/ZZvhx/6muiV7KiJGCI0CgkkgDHJ5Jq4umovmV301tb/P00Jak2rM8u%2BLvwe%2BKHi/41eDviZ8MfGOkeHP7Ds72013Ubqwe8ub%2BynMTGzSHckajfEsgmdm2OgxGwZs9XafB34fJ4nsPHus%2BHrbV/EemWrW9l4i1W2jlvIUZmLBH2gR53EHYFyMA8AV09FW69VxUb2sraaaeb3e//AABKnFNvuFVtY1nSPD2lXOva/qttY2NnA015e3k6xRQRqMs7uxAVQASSTgAVT8bjxq3hHUV%2BHEulprptWGlPrUUj2izY%2BUyrGyuyDuFZSemR1rxI634q/ae/ZI8b/C/4i32k6V430d7vw94oxGYLAalAUeGULIzMltcxtbTKCzER3O3cWXNOlR9ouZvS6T7q/W3b9TRK50PxC/a50a2t/C6/s/aJp3xJufFUeoXGm/2P4khjtpYLKBZpglwFkR52EkYjh%2BXduLFkVGYeLeI/2k/G2seIvHnx48DfE3XI38H2eka/o3gW/mt4dP1fwsSseoRLGU3C/W5ttShLl2MU0duufLlUHV8I/Br4i/Gf40%2BIfGll4M1/4Z3UA0vV5dQ1PTY2iTxVbyPb3Eluqybby2ubGOGOZl2hl2bX3l9nr/gL9kj4Z6b4G0zw78X/AA5oHjjU7DXb3WhqeqeG4hFDfXVzJcubaGQym3iV5SI497lAifMSoNelfA4RWau9L7N66vvHbTRp63NPcid/418PXXjjwNqfhfTfFeqaDNqumy28GtaQUjvLBpEKrPF5qMqyoSGG9CARyp6V4z8Pf%2BCZ37IngzxFH498YeA7r4ieK05bxb8UtVl8QX5bsym7LRwkdvJjjA7CvfaK82nicRRg405OKe9tPxWvyvbyM1KSWgy3t4LSBLW1gSOKNAsccahVVQMAADoBT6KKwEFFFc/8SPiv8Lfg34bk8ZfF34k6B4V0iLPm6p4j1iCxt04zzJMyqPzpqMpOyV2NJydktToKK%2BVbz/gsN%2Byj4lvJdI/Zo8N/Eb4330LlJYvhD4AvNTtUYcfNfyrDYgZ4z5%2BB37UwftEf8FW/iv8Au/hN/wAE/PB3w9tZPmg1f4x/FJJZdnYtY6NDclWxztadT2OOtdX1HEr40o/4mo/g3f8AA6fqWIXxpR/xNL8G7/gfVtFfKY/Z0/4KwfEX/S/iR/wUZ8HeBkk4l0v4VfByGTYO4W61i5ujn38ketL/AMOsh4k/efF//goR%2B0x4saTm5th8UTo1rJ6jydIgtcL/ALJJ%2BtH1fDx%2BKsvkpP8ASKD2FCPxVV8lJ/okfVTukal3YKoGSScACuR8S/tBfAXwYzJ4w%2BN3hDSSn3xqXiW1gK/XfIMV4Kn/AARR/wCCal2wm8Xfs%2BXXimbOZJ/GfjjWtZaRvUi8vJF/IAV13hr/AIJX/wDBNPwkqjRP2BvhAGT7st18PdPuJB/wOWJm/WjlwC%2B1J/8AbsV%2BcmHLgl9qT%2BSX5yZtar/wUO/YB0Jimt/ty/B6zK/eF18TNKjI/wC%2BrgVjzf8ABUv/AIJoQNtf/goJ8Fyf9j4m6W38p67DSv2Nf2QdCULon7Knw2swv3Ra%2BBtPjx/3zCK2If2d/wBn%2B3XZB8DPByD0TwzaD%2BUdF8v7T/8AJP8AIP8AYe0//Jf8jzq2/wCCon/BNS7YJD/wUE%2BCuT0D/FDSl/8AQrgVvaN%2B3p%2Bwz4iYJ4f/AGz/AIT3xb7os/iLpkuf%2B%2BZzXSXX7N/7O96uy9%2BAnguYHqJfC1ow/WOsHWP2HP2KfEKlNf8A2PvhbfBvvC8%2BH%2Bmy5/76hNH/AAn/AN//AMkD/Yf7/wD5Kdn4X%2BK3wu8blV8F/EnQNXLfdGl6xBcZ%2Bnlsa36%2BdPFH/BIn/gl74vDDVv2B/hVFu6nS/BtrYn8DbIhFYB/4Iv8A7BGknz/hr4P8beBrkf6u68DfFnxDphj/AN1Ir7yx/wB8UcmAe05L1in%2BUg5cE9pyXrFP8pH1VRXyp/w7X%2BLPg7/Svgj/AMFR/wBojQrhf9VD4n1/TvE9qvplNTspZG/GWk/4Vb/wWO%2BGf/Im/tY/Bf4oQdfI%2BIPw3vNBuSPT7Rpd1LGD/tfZ8f7NP6tRl8FaPzUo/mmvxD6vRl8NVfNSj%2Baa/E%2BrKK%2BUT%2B2h%2B338Kv8Ak4f/AIJda/qljD8s%2Bu/BXx3p/iFXP95bK7%2BxXQHsFc8dzgVreB/%2BCvP7BfiXxDD4G8efF24%2BGfiWY7T4Z%2BL2gXnhe7V%2BmwHUY4opGyQP3bvycUngcVa8Y8y/utS/Jt/gDweJteMeZf3Wpfk2/wAD6YoqtpGsaR4g0yDW9B1W2vrK5jEltd2c6yxSoejK6khh7g1Zrk2OXYKzfFng3wh4%2B0Kfwt468K6brWmXK4udO1axjuYJR6NHICrfiK0qKabi7oD5r1P/AIJe/A3wrqVx4o/ZU8aeMPglrM8hmkk%2BHGuNDps8nUedpdwJbKRAf4REv1FV28af8FL/ANnH/kffh14Z%2BPfhuD7%2BseCGXQPEiRjlnfT7l2tLlsdFhmiJ7L2P05RXasfWnpWSqL%2B9q/8AwJWl%2BLL5299Txv4E/t6/s0fH/wARv8PNA8ZT6B40gH%2Bm/D/xrp8mka5btjJH2S5CtKB3eLzE/wBqvZK4T48fsxfAD9p3w4nhb48/CjSPEltCd1nLfW%2BLmyf/AJ6W9whWW3f/AG43VvevFn%2BCH7cf7JP%2Bn/syfFR/i/4Og5b4a/FHVNmr28Y/g0/W9uWPQLHeK6gDHmjrR7LCYj%2BFLkl2lt8p/wDySXqFoy20PqSivHP2eP24fgz%2B0D4hufhkU1Twd8QdNi36x8N/Gtl9g1i1UdZEjYlbqHjImgaSMgg5GcV7HXLVo1aE%2BSorP%2BvvXmm15ktNOzPOPHX7K3wb8WeG/GGmaH4K0nQNT8a2jRazrul6TCtxNIWDrLJ8uJT5gV2DcOR82au/CL4O6j4C1zXPH3jbxmfEfirxILWPVdXWw%2ByQrb2yOsFtBAHfyokaWeTBdiXnkJY547qiqeIrOm4OV0/%2BB13totPJGfs4KV7HjH7TrF/jb%2BzkShX/AIvPfjB9vBXijmvZ68Z/ag/5Lf8As4/9lmvv/UK8UV7NWJYUUUUAFFFFABRRRQAUUUUAeD%2BFPjN%2B0Fof7Z9v%2Bzp8QvEHgjxJpes%2BEdV8RLF4V8OXlje%2BFbaC9toLFb6Wa9uI7oXQmuFR1jtSXsZiiSKshiwvhX%2B1P8Xdd/bS8V/A34seJtE8M6Lb%2BJ7nTfAGgX/wn1u0ufE9tFpdvdm4tdenuxp93IrtdlreCBpBHauSAEZx0Xwm/YlvPg58QvG/xG8OftZfE27uvH2uT6rrcGrW3h2cLO7IIljm/sgXHlW8KLbwxPK6RxcBS3z1v337LUHiL45aL8a/Hvxv8a%2BIofC2tXOr%2BEfB2pHTI9J0W%2Bms7iyaeL7NZRXUxW2u7qNBc3EyqJ2IG5UZQDjP%2BChfxc%2BFHhrwf4M%2BFHiP4neHtP8AFPiD4w/D2XQfDV7rUEWoakkfjPRmka3t2cSTBVVixRSAFJOMGvoevGf28P8AkiGh/wDZZvhx/wCprolezUAFcT8ff2h/hD%2BzH8PZviZ8Z/F8OlaakqwWsexpbm/uX4jtraFAXuJnPCxoCx5PQEjH/an/AGpPBn7LXge11zV9Ivde8Ra7fLpvgvwXowD6h4h1Fx8ltAvYD7zyt8kaAs3YHhP2dv2RfGep/EGD9rX9tPVbLxL8UXiYaDpFsS%2Bj%2BBbZ%2BtppyNw05GBLeN%2B8kIwpVOG7KOHgqftq7tDolvJ9l2S6yei2V3oqUVa72PRP2afih8YvjD4JuvHvxb%2BBs3w%2BjvdRZvDWhanqaz6kdO2J5ct9Gi7LWdm3kwB3KKVViGBFJo37LXwo0z40678ftSt9Q1bxJrwgSWTVdQaS1tYoVVYo4bVdsClduRKyNNyQZCOK9GorF1pKcnT91S0sr7dtdenz/AV9dAooorEQUUV4H%2B1B/wAFAfh78BfGlt8Bfhr4M1b4o/F/VbYTaR8L/BpRrtIjgC6v53Pk6ZaZK5nnIyD8iuQRWlKlUrT5YK7/AK1fRLzdkaU6VStLlgrv%2Bt%2By82e9SyxQRNNNIqIilndjgKB1JPYV8w%2BP/wDgqp8FLjxfe/CX9kbwN4l%2BP3jayk8m70n4YWyT6bpsx6LfavKyWNoM5BBlZ1I5SsC0/YK%2BP/7YEi%2BKf%2BCnXxm%2B3aJMwktvgR8Nr%2Bew8M2y9Vj1G6UpdazIMKWDtHb7gcRFTX1L8Pfhx8PvhL4Qsvh/8LfA%2BkeHNC06Ly7DR9D06O0tbdfRIolVV/AV08uEofE%2BeXZaR%2B/d/JJeZvy4Wh8T532Wkfv3fySXmfMq/CH/AIKp/tN/6R8Z/wBofwz8AvDVx97wp8IrJdZ19om6xzazqEfkQyD%2B9bWp9nrovht/wSX/AGGvAviSP4g%2BMfhTN8S/Fy8yeMvi7q8/ifUXfOd6tftJHCfTyUjA7CvpKipljcRblg%2BRdo6fe1q/nITxle1oPlXaOn4rV/NkVlZWWm2cWn6daRW9vCgSGCCMIkagYCqo4AA7CpaKK5DlCiiigAooooAKKKKACiiigAooooAKKKKACsjxx8PvAXxO8OzeEPiV4I0jxDpNwMXGl65psV3by/70cqsrfiK16Kabi7oabTuj5W1n/gkN%2BzT4Z1OfxV%2ByV4t8cfAPXJpDK9x8JPE0llp88nUedpUwlsJUz1XyFyO44Ipv4k/4K0/stjd4r8JeDf2lvC0H%2Bs1DwwE8K%2BLI4%2BpdrSZ30%2B8YD%2BGOW3Zj0XkCvrWiutY2tLSraa/vav8A8C0l%2BLOlYyrLSraa/vav79Jfizwn9nX/AIKOfst/tH%2BLX%2BFWk%2BKdQ8I/EG3TN98MviJpUmieILfgk4tLjBuFwM%2BZA0seP4q92rzr9o79kr9nD9rfwmngv9or4QaP4otIH8ywnvYCl3p8uQRLa3MZWa1kBA%2BeJ0b3rwGb4c/8FBP2BR/afwV8Wap%2B0Z8LLUZuPAfjDUI08aaNAOT/AGfqb7Y9VVRki3u9sxCqqzMTT9lhq/8ACfLLtJ6fKWn3SS9R%2Bzw9f%2BG%2BV9pPT5S/%2BSS9T7DorzL9lz9r/wCA/wC2F4MuPF/wU8WvcTaZc/ZPEfh7VLR7PVtBvBndaX1nKBLbSqQwwww20lSy816bXLOnOlNxmrNdGc04TpycZKzQUUUVBJ5z%2B0Z%2Byj8Dv2p/D1tonxd8ICe702Xz9B8Q6dcNaarotwMFZ7O7iIlgcEA/Kdp2gMGHFeKj42/tJfsAzppH7W9/efEf4So4js/jJp2n/wDE18Px5wq65aQjEsQHH26BccZljUtur6wplxb293bva3UCSxSoUkjkUMrqRggg8EEdq66OLcIeyqrmh2fTzi94v8H1T3KUrKz2KvhvxL4d8Y6BZeK/CWu2eqaXqNslxp%2Bo6fcrNBcwuMrJG6Eq6kEEEEg1dr5I8Y/CT4if8E5NevfjV%2Byv4bvtf%2BEF3cveePvg5YL5kuhhjum1TQkP3ccvLYjCONxj2tgD6a%2BGPxN8A/GbwBpPxT%2BF3im01vw/rlkl1pWqWUm6OeJu47gg5BUgMrAqQCCKWIw6pxVSm%2BaD2fVPtJdH%2BDWqdtiUbarY82/ag/5Lf%2Bzj/wBlmvv/AFCvFFezV4z%2B1B/yW/8AZx/7LNff%2BoV4or2auUkKKKKACiiigAooooAKKKKACiiigDxn9vD/AJIhof8A2Wb4cf8Aqa6JXoXxh%2BLfgP4D/C7XvjH8T9cTTtA8OabLfapduMlY0GdqjqzscKqjlmZVHJFee/t4f8kQ0P8A7LN8OP8A1NdErg/2h7YftXfts%2BDv2S5P3/gz4c2Nv4%2B%2BJUA5ivrzzmj0XTpexXzYp7x42BDC2iz1rpwtGNar7%2BkUm5ei3t5vRLzfkVFXepe/Y4%2BC3jz4i%2BNLj9vT9qPQXtvHXiayMPgrwrd/Mvgbw%2B53RWaKeBeTLtkuZcBizCIbVQg/SlFFTiK8sRU5notklsktkvJfjq3q2KTcmFFFFYCCiivnH/goV%2B0B8UPCGmeE/wBlX9mPUYrb4t/GPUZtL8MalJF5ieG9OhQPqWuyp0ZbWFhsUn555YVw2SK1o0pV6ihHr9yW7b8ktTSlSlWqKC/4ZdW/JLU539oD9qD42/tFfGTVf2I/%2BCf2r21hq2iMsPxY%2BMdzai5sPA6uM/YrWM/JeauyHIiJ8uAENLydo9e/ZT/Y7%2BCH7HXgq48KfCXRLmW/1a5%2B2eKfFuuXRvNZ8R3xyXu7%2B7f57iViWPOFXcQiqvFaX7L/AOzR8Lf2Rvgro/wM%2BEemSxaZpaM9ze3kvm3eqXkh33F9dSnma4mkLO7nqTgYAAHoFbVq8eX2VHSH4yfd/otl5u7Nq1ePL7KlpD8Zeb/RbLzd2FFFFchyhRRRQAUUUUAFFFFABRRXI/HfxV8TvBXwj1zxN8Gfhz/wlnii2tR/Y2gG%2Bjt1uZmdUyzyEKFQMZCMgsEKggkVdKnKrUjBWu2lq0lr3b0S83sZ1akaNKVSV7JN6Jt6dktW%2ByW5g/FD9sr9lb4L%2BIrfwj8UPj54Z0fVLibyhYXGpoZYjgnMqpkwrx96TaueM13/AId8SeHfGGh23ifwlr1lqmm3sQls9Q066SeCdD0ZJEJVh7g4r8ffiF8O/jr%2ByX8ArX4SfEH9m74J3fj3xbNKLVr2xTXvGNzNcyuRLBHGskcZjDFFfJXKZXc3Fbfxm/aM/ai%2BGX7Pnw7/AGCvgX8Cfid8NfG2l266gdP0XUmvr7VrFzcs8qvaqsybp/McxhABhlJAQbvu58GUa0KawlZNyk05OUOVxitZpJqSinZfa3u5I/P4cb1qE6rxlBpRimoqM%2BZTk9KbbTi5NXf2drKLP10or85v2U/%2BCb/7YPj/AOH8fxR8fftnfFz4Y3eveIjqE/hQ%2BIbue%2BNiCF/0tzJCFvHCj52jYKoTdGSSifozXyua4DC5fW9nRxCqtXTtGSs1bq7p9dYtrTc%2BuyjMMXmVD2tbDSoppNc0ou6d%2Bis1bTSST12CiiivLPWCiiigAooooAKKKKACiiigD54/aw/YL074v%2BMoP2lf2d/Gz/DL44aLbeXo/j7S7cNFqsK4I07V7YYXULJtoG1/3kWA0bKRg2/2NP20L/476rrnwE%2BPPgZPAfxq8DxRnxn4Ja5MkFzbsdsWraZK2DdafMR8rj5omPlyAMAW98r55/b6/ZR8W/GXQNH%2BPv7Od7b6N8bvhhJJqXw61uT5Y78Ef6Rot4cjzLK8QGJwSNjlJFIKHPbSqxrxVGs/8Mv5fJ/3e6%2BzuuqfZSqxrRVKq/SX8vk/7vl03XVP6Gorzb9kT9pjwj%2B19%2Bzx4b%2BP3g/T7jT01q1ZdT0W9GLnSNQhdobuxnBAIlgnjkibIGdmRwRXpNck4TpzcJKzWjOWcJU5uMlZrQKKKKkkK%2BR/Fdh/w7W%2BPq/E3w8v2f4EfE7X44PGWlrxb%2BCfENy4SLVIh0isrqQrHOvCxyskgIDMtfXFYPxQ%2BGngz4yfDnXPhR8RdFj1HQvEWlzafqtlKOJYJUKMAf4WwchhyCARyBXVha6ozcZq8JaSXl3Xmt0%2B%2BmzZUXZ67Hm/7UH/ACW79nH/ALLNff8AqFeKK9mr5fn%2BGnj74N2v7Jfwp%2BJnxGHi3V/D3xUvbCTxEbQwvewxeDPFSwNIpZiZRCI1d8/O6s2BuwPqCsKkYwm4xd0nv38/mJ6MKKKKgQUUUUAFFFFABRRRQByHgX9oP4B/FDxlrPw6%2BGnxv8IeIvEPh12TxBoWheJbW7vNMZXMbLcQRSM8JDgqQ4GGBHWrFr8bfgzffFO5%2BBdl8XPDE3jezsBe3ng6LX7dtVgtSFIne0D%2BcsZDp85Xb8y88ivmv4a/FfTPix%2B2/q3xT8WfCT4i%2BEtJ%2BFmk614X8C6bcfBrxDD/AG19qvLM6jqzXQsPs7wSS2kCWsEUjM8azXLg74xDzPg74f8AxBi/ak8PfDeX4UeKIde0H9p3xJ491rxnL4auk0qbw7eaFqdvbSJqZj%2BzTyFb2w0/7KshmT7MzGMRwq9AHvf7eH/JEND/AOyzfDj/ANTXRK5D/gndF/wm3iH45/tFX48278ZfGnVbC0uv72maOE0q1Qf7INtO495TV7/goXpvxXn8H%2BDNR8OeNPD1r4Wh%2BMPw9GvaNe%2BGJ7jULxz4z0by2t7xb2OO2CttLB7aYsAQCmQRX/4JYzRxfsv6j4de2SG80X4peMrDUokLHbcJ4gvmbO4k7iHVjz34AGBXbR0wNZrq4L5Xk/zSLXwP5H0fRRRXEQFFFFABXyX%2ByLZt8df%2BCiX7Q/7U2ssLi28EX2n/AAp8EbxzZw2ltDqOrFf%2But7exKW6kWijPGB9aV8qf8Et2Ww1D9pLwpd/Lf6d%2B1L4qlu424bZdJZ3kDkehhnjwf8AZ9q7MP7uGrSW9or5OWv5JHVQ93D1ZLeyXyctfySPquiiiuM5QooooAKKKKACiiigAorwv/goZ%2B2Mv7En7Px%2BK9jolrqmrXms22naNpl47rHPI5aSTcU5UCGKUg9NwUdwD694C8RX3i/wLovizU9JWwudU0m2u7iwS6WcWzyRK7RiRQBIFLFdwGGxkda6p4LEU8HDFSXuTbin3cbX030utfkckMdhqmNnhIy/eQUZNdlK9tdtbPTe2pT%2BLXxQ8L/BX4aa38WPGxu/7J0DT5Ly/wDsNo08vloMnai8n68ADkkAEj4w8T/tx/Gv9q/4Va/8bPhX43s/gv8ABbw75seseONSa3vPEOpSoBm1tbUSFLaVy6IoZt5aSMoxztrqv%2BCzn7TifBX9nyw%2BHnhf4sXHh3xD4p1q3W4TSHcaidIQn7TJAUKhDu8tfneMOC6hutfkn4U8NeNviDoc/wANvBPifXdXgTxJDPpXgizt55LjUDLDN5l/DZozIZUihjV8EvtlXBKIzD9B4S4YoYzLfr1e0W5e65JySitJNRdo3b%2BGUuaK1bWiPzjjHiqvgs0WAoXklH3lFqLc3rFOSvPlS%2BKMeWUtEnqz6j8Of8FL/wBn79nPV7LxF%2Byp8DNb1bxTqGpxv4x%2BIvxXvF1DWb%2B0BHmQxeXLiN5BjLB1UBcFHJDp1v7e3/BQf4meDP2k/Bv7T3wS%2BBnxC%2BHWsv4Tn0Se7%2BJfhpbWHXLEXAnMCW5Db1R5EcyLKGy6DauAW9b/AGAP%2BCVHxk%2BFPizwH8bPjL4o8HwLplkbm88IN4BsJr2CRlbyo3vdm8TIWRzKCXVkKAkfNXxV/wAFQ5fjj8Rv2qfFGq2Pgzxnq7yeO7rSPDEet6VdB7uHKRw2tjEFKFVkjk2Kn7yUTxsV3bq9KpjuGKeYVK8acq0KNOXtJR56spKT5eVQSjzqKjzWStGKvFaXMcpyHi/OKdDLY16eHq4mrFUlVlSw9KEox5lKVabapublypyacptKUlzI/Rb9gj/grZ4Z/a/8b6P8EtW%2BGuoaf4pk0BrrVtUheFLBp4kXzfLRpTIEZiQo%2BZuRnjJH2PX5rf8ABMj/AIJG6Jq/wN0f4tftefDvWvDfj2LxnHrGh29rqclrcWunwCFoYLiFshGeZZXYYEoUoAyHIr9Ka/Oc3xPD%2BMqwxGUKcaclflnFxad97SbaTT2dmrLufpWFynifIcRXy3PZ0qlajLlc6NSNSDsknacEoys9OaLak72el2UUUV5B3BRRRQAUUUUAFFFFABRRRQAUUUUAfJv7MFqvwA/4KZfHX9mvTx5WgfEDQtK%2BK3h6yj/1dteXEkum6xj3kuLW1nI/vXDH%2BKvrKvlSdl1T/gt7afYTu/sT9le5XUyv8JvfElubcN7kWNyQPrX1XXZjNZwk93CLfrZr8kjqxesoSe7jFv7mvySCiiiuM5QooooA8Z/ag/5Lf%2Bzj/wBlmvv/AFCvFFezV4z%2B1B/yW/8AZx/7LNff%2BoV4or2agAooooAKKKKACiiigAooooAKKKKAPGf28P8AkiGh/wDZZvhx/wCprolcZ%2BydMPg3%2B2f8dv2ZNR/dQ6/rFt8S/CYfrc2uoxJbaht9o7%2B1Ykf9PSn%2BKuz/AG8P%2BSIaH/2Wb4cf%2Bprolcv%2B374E8aeEj4U/be%2BDegz6l4r%2BENzPcarotmv73X/DVwqrqdgo/jlCIlzCDnEtuAAS9duCanKVCTtzqy/xJ3j%2BOn/bxcNdO59HUVifDb4jeC/i94A0f4o/DnxBBquha/p0V9pWoWzZSeCRQyt6g4OCDyCCCAQRW3XHKMoycWrNEbBRRRSAK%2BRb6/H7H/8AwVTl1fWm%2Bz%2BCP2n9FtLSG%2Bk4is/GukQNHHAx4VDe6aFCZ5eTT9oyWFfXVebftZ/sw%2BAv2v8A4Gav8EPH1zdWSXhiutG13TZPLvdD1KBxLaahayDmOeGVVdSDzgqcqzA9OGqwpzcZ/DJWf%2BfyaT%2B9dTow9SEJuM/hkrP/AD%2BTSf39z0mivmn9ib9rnx3r/im%2B/Yv/AGxYLXRvjl4NshJdNEnlWXjbS1OyPXtMzgPHJgedCvzW8u5GVRtr6WrOtRnQqcsv%2BA10a7p/1rdLOrSnRnyy/wCA10a8n/XVBRRRWRmFFFFABRRXL/GX4yfDv4A/DbVPix8VPEMWmaLpEBkuZ5OWc9FjjXq8jNhVUckkCrp06lWooQTcm7JLVtvoiKlSnRpupUaUUrtvRJLds%2BK/%2BC0P7PPwm%2BJXiLwD4z1P9ozw14M8Zterpuk6f441CU6Xd225pGkaNIZhBtkKh5pEWFlYLI3CV8w/sX/8FLPiV%2Bwv8VG%2BCHxL%2BJA%2BIPwx0ia5smXw1H9t8p1RvLk02W48hmi80Iu1iIyhdkXJUn6p8U/sYfEn/gq1q1t8eP2nI7z4ceFLTT5ofh14X021hOrtBLtYXd/LIrbdxVGEAHAJAKEl5Og/YF/4JB%2BDv2UfGL/E34qa5YeK/Emm6gZfDN9ZpPDFaoYTGWkidyjSDcxU4OzJOSdu39Ow%2BaZJgeHpZfmNT204Jr2aS0k27KFRLeOzavytuzlsflWJynPsfxJHMctp%2BxhNp%2B0bfvRSSbnSb2luk7cySuoXuexaz4P/AGIP%2BClvwrttbvbDQPHujRMVtNRt3eG90122s0YkUpcWrHahaM7dwC7lIxXyr8UPjH/wTZ/4Je/HyHwN8Jf2TdS1vx/plpG8OpWmpm58h7hGTyhLPPLJHKUYgqsQ%2BWQYyGr6c%2BKf/BNn9mX4meN7r4laZY694M1%2B/A/tHU/AWvS6U12QSd0iR/u2Y5OW27jnkmsr9nL/AIJafs5/syfHWf8AaF8FeIfGGp67NbzxoviDWo7iKN5/9bNlYkkkkYbuZHcfOxxnaV%2BewOYZNhqM41K9aVLldqN5RTk%2Bkpxly23vaKv1Vz6TH5bneKr0508PRjV5letaMmorrGEo83Nta8nbo7GVp/7Wv/BRfWtFt9T07/gmK0S6nbpLps118VrBDAJACn2iFolkQgEFlIVhgggHp80f8FQfi3%2B3LpXwu8L%2BBv2jPgd4NGp6r4mhvfAfij4d61qIm0fVYcbF2lgzXBWVgnzbSwZlDFBj9PqR0SQbZEDDIOCM8jkVxYHPsLgcZCvHB07Rd9HO/W1pOTtvro1JXTWp3Zhw/i8fgp0JY2peStdqFt1e8VCN9tNU4uzT0PKP2N/2ePHP7NXwouPBfxJ%2BOWsfEHW9R1ufVdQ13WGfKSSpGphiEkjssYMe7luWd2wu7aPWKKK8LE4iri68q1T4pO7skl9ySS9Ej38NhqWDw8aNJe7FWV22/m223vu2wooorE3CiiigAooooAKKKKACiiigAqDVdU0zQ9Mudb1rUILSzs4Hnu7u5lCRwxIpZndjwqgAkk8ACp6%2BK/j9431j/gp98VtT/Ye%2BA%2BsXMfwe8N6kLf8AaA%2BImnTFItUZCGbwpp8y/wCskk4F5KhxDETFu3yFa3w9B1pau0Vq32X%2Bb2S6v523oUXWlq7RWrfZf59Eur%2Bduh/4JlQ6l8dvE/xU/wCCjWu2M0Fv8ZNft7X4ewXURR4/CGlJJbadNtYbozdSPd3hXutxGemK%2Bs6q6FoWi%2BF9Es/DXhzSrew07TrSO1sLG0hEcVvDGoRI0VeFVVAAA4AAFWqWIq%2B3rOaVlsl2S0S%2B5ffcVer7aq5JWXRdktEvuX5hRRRWJiFFFeRftp/tJ3P7NfwdbVPB%2BjrrPjnxLfR6F8OfDSnL6rrVxlYEI7RR8zSsSAsUTkkcVpRpTr1VTgtX/X3dW%2BiTY0m3ZFb9qD/kt/7OP/ZZr7/1CvFFezV8vT/CjxJ8D7X9kv4X%2BM/iDqXivW9L%2BKl6Nb8RateSTzX97J4M8VSzyBpCWWPzXcInRIwiDAUV9Q0qkYxm1F3Se/fz%2BYPRhRRRUCCiiigAooooAKKKKACivF/2Ofi78cPiVdfFLwd8fr3wpd6z8P8A4mN4etr7wfotzYWtxato2lakhaK5urlzIrag8ZcOFcRqwRMkVyX7E/7U/wAXfjR8QvEfgj49%2BJtE0fXbW51iXSfh%2BfhPrfh/UE0211aS0hv477UbuSHV4Gh%2Bys8tpCsavdR5Zd6qQDr/ANvD/kiGh/8AZZvhx/6muiV7NXzx/wAFC/i58KPDXg/wZ8KPEfxO8Paf4p8QfGH4ey6D4avdagi1DUkj8Z6M0jW9uziSYKqsWKKQApJxg19D0AfIV/Jef8Eufinea8LaV/2cvG%2BstcagIYyy/DbWbiT55to%2B5pVzI2Wx8tvM5OFR%2BfriyvbPUrOHUdOu4ri3uIlkgngkDpIjDKsrDgggggjgg1HrWi6P4k0e68PeIdKtr%2BwvrZ7e9sryBZYbiJ1KvG6MCGVlJBBGCDivk5vC/wAY/wDgmPdyX/wy0DWfH/7PjStJd%2BE7MPd638PlJJaSxUkvfaauSWt8mWAfMm9Qy16Pu5gtXar%2BE/n0n66S7qXxX8fr%2Bf8AwT66ornfhT8W/hp8cvAWn/FD4Q%2BNtO8Q%2BH9Vh8yx1TTLgSRyDuD3VgeGRgGUghgCCK6KuCUZQk4yVmiNgoooqQPJP2uf2Nvhd%2B2B4R0/TfF13qOg%2BJvDd4dQ8DePvDdx9n1jwzf4wLi1mA4BAAkibMcq/K6nAI8c8D/t0/Fj9kjxLY/An/gqRYWOkC5uFs/Cvx80a1MXhbxKScRpfdRot8w%2B9FKfIdg5ikxha%2BvqzvFvhHwp4%2B8M33gvx14Z0/WdH1O2a31LStVs0uLa6iYYaOSOQFXU9wQQa6qWISh7KquaPTuv8L/NPR%2BT1OmnXSh7OquaP4r0f5p6Pyepdtbq1vrWO9srmOaGaMPDNE4ZXUjIYEcEEcgipK%2BQpP2Cv2hf2QrmTxB/wTI%2BNtvpvh8SGWf4F/E2a4vvDLZOWXTrpS13o5OWIRDLBuYfugBWn4S/4Kr/AA18G%2BIbT4a/t3/C3xB%2Bz34rupRBbv452TeHdRl/6ctdgzZyjpxK0MnPKCqeDc1zUHzrsviXrHf5rmRTwrmr0Hzrt9pesd/mro%2BqqKr6Tq%2Bk6/plvrehanb3tldRLLa3dpOskUyEZDI6khlI5BBwasVx7HJsFfJ3/BZjwB8G/GP7GWp6z8WPGR0S60S6Fz4SnZpXS41Mo2y28qP/AFjSRiVAx4j3FyQqtn6xrw//AIKOfATxV%2B0p%2Bx14w%2BFvgd0Ory20N9p9u8O/7XJazJcC3XHKtJ5ZRSO7DPGa9XIq8cNnOHqSnyJTjd9lfXv318m/l5Gf0JYnJMTSjDnbhK0X1drrqtbrTzS%2BfW/sk%2BKta8bfsw%2BAfFPiOGGO/vPCdi93HDqBugsghUENKxJZ%2BPmySQ24Ekgk%2Bh188/8ABNP40/s7fE39nSx8F/s/%2BFX8Mf8ACIILTxD4MufPM2i3sjyPIjPNlpQ8glYSEknkMFYFV%2BhqxzSjLD5lWpyi42lLRqzSbbXVrZq1m1azTaN8prwxGWUakZqV4x1Tum0kn0T3TvdJ3umk0FFFFcB6AUUUUAFFFFABRRRQAUUUUAFFFFABRRXN/Fb4x/CX4E%2BDrj4hfGn4l6F4T0K1H7/VvEOqxWdupxnbvlZQWOOFHJ7A04xlJ2irsajKTsldnSVzvxW%2BLnww%2BBfgLUfil8ZPH2k%2BGfDulQmXUNZ1q%2BS3t4V7As5ALE8BRksSAASQK%2BZ5v%2BCiXxq/afJ0P/gmh%2BzJf%2BLbGY7F%2BL3xKhuNB8IwD/nrAJEF7qoBBGLeJUPB83HNbHww/wCCaek69490749/t3/Fi9%2BOPj/TZvtGjR65Ypa%2BGvDcvY6Zo6EwxuvA%2B0TGWc7Q29TXZ9VjR1xEuX%2B6tZfdtH/t5/8Abp1fVo0ta75fJay%2B7Zf9vP5HG33jT9p7/gqgp8P/AAiTxJ8HP2errjUvHl5bvY%2BKvHlsesWlwOA%2Bl2Mi9byUCeRWXy0QFmr6u%2BDnwa%2BF37Pnwz0f4OfBfwRYeHPDOg2gttK0jTYtkUKAkk9y7sxLM7Es7MzMSxJPTUVlWxDqRUIrlgtl%2BrfV%2Bb9EkjOrXdSKhFcsV0/Vvq/P7kkFFFFc5gFFFeZftMftafCT9ljw/Z3nju8u9Q1zWpjbeFfBmgWxu9Y1%2B67QWlsvzOc43OcImQWZRV06VStNQgrt9BpNuyOh%2BOHxw%2BGH7OXww1X4wfGDxTDpGhaRDvubmXLPIxOEhiQfNLK7EKkagszEADmvFf2WfhB8TvjT8WT%2B3l%2B1P4Ym0fXJrCSy%2BFngC9IZvBujy43yzDoNSugFMzDmNAsIPDCm/B39mT4tfHX4maX%2B1Z%2B3dbWi6tpExufh58KLG6Fxpfg4kfLczuPlvtT2nBnx5cRJEQ6MPpiu2c6eEpulTd5vSUlsl/LF9f70uuy0u5U2oqy3PGf2oP8Akt/7OP8A2Wa%2B/wDUK8UV7NXjP7UH/Jb/ANnH/ss19/6hXiivZq88gKKKKACiiigAooooAKKKKAPF/gT%2Bx5rHwJ8aeL/Gtp%2B1l8SvEcnjjxXD4g16x8Q2nh0QPdpa29mQn2TSIHSN7e0tomAfOIQylXZ2bU%2BH/wCy1B4T%2BNC/Hnxt8b/GvjrXrLQ77RvDv/CVHTI4NEsby4tri6ht49PsrXeZHsrMGS4M0gW3UBxuff6pRQB4z%2B3h/wAkQ0P/ALLN8OP/AFNdEr2avGf28P8AkiGh/wDZZvhx/wCprolanhn9sD4Na18adR/Z58RXt/4W8YWl3JHpukeK7I2R1yFTgXOnyMfLu4m5wEYuMHci4rSFKpVTcFe2rt0Xf%2BvnYmU4xtd2uepUUUVmUfOPxQ/Yc8Q%2BDvHuoftA/sJ%2BP7X4ceNtRm%2B0eIfD11atN4Y8WSdzf2aEGGZun2u32yjLFhJmpfhf/wAFBPDlv4ztPgh%2B1/4Duvg78Qbp/KsLLxBdLJo2vOON2mamAIbjOV/cuY5gWCmMkZr6JrA%2BJnwr%2BG3xn8G3fw8%2BLXgTSvEeh36bbvStZsUuIJPQ7XBAYdQwwQeQQa7o4uFWKhiVzW2kviXz2kvKXyki%2BZPSRv0V8ur%2ByB%2B01%2By7/pn7CPx6F54ch5X4R/Fi5n1DTIkH/LOw1EFrywAAwqOZ48nlQBV7Qv8AgpT4H8D6tb%2BCv21vhZ4g%2BB2uzyiGG88WKtx4evJD2ttZt82zDHOJjC4zyooeBlUV8PL2i7LSS9YvX/wHmQcl/h1PpSiquia5onibSbfX/DesWuoWF3EJLW9sbhZYZkPRkdSVYH1BxVquFpp2ZAVn%2BKfCnhbxz4fu/CXjbw1p%2BsaVfwmK%2B0zVbNLi3uIz1SSOQFXX2IIrQopptO6BNp3R83eCP%2BCXX7PfwT%2BKem/FD9lzxT41%2BFENtq6X2seDPA/ieSLw3rYD5eG40ucS20asMrm3WFxnIYGus/bl8W674e%2BEGl%2BGtB8U3ugt4w8baL4cu9e0%2BUxTadbXd2iTSpIP9UxjDIH42mQEEHFdh8fvj/8ADT9mj4cXHxR%2BKmqT2%2BnQ3EdtBFZ2rT3F3cSHEcEMa8vIx6DgDBJIAJHzfr3wv/au/wCCk%2BiS6R8cdMf4T/BnUnBl8GmBZPEXiC3VgVF40ilLONiA3lgFuoYMNr17OEw9fFcuKxM1GlF25pa3t0ivinJaaapaXkkcuLzv2WLjS5ZVqu/KrXS6OUn7sV2cm27WSZ5z4a/4KU/C34DfBX4ofDv4RePvEvj/AMRaXr%2Bsp8K9JsftniW7FqkUS26vcyvIZIluDIqCWYttXGdu2m/Cn/grl%2B0XrXh3SvBXgj9lTxh8WPF%2Bqazc6ZYXGr%2BGI/AkPnWlv512l1511fiOSMAFiFQDzYxs5BP1X4Q/YT/Z0%2BF3wyn%2BFvwQ8O6j4AtLj7KX1HwXrU9jel7fcI3MwYmQ4ZgwcMHBwwIAA5XxZ%2BwPeaPpehXH7PXxkn8N6/ph1/8AtPxD4n0ttan1STWVi%2B23rgTwBL0PDG8UnzQxjcnkMhCr1PF5DdpUXJvrOTWtt2oLRPsm99WbU44zENyr1owvK9owvZWtZyk7vWzbjGN3dWUWfNX/AAT48Z/Cv9n7xlrf7S3xA8DXfhO9%2BKVpa3s/gjwfb3Oo6f4G0ua%2BlgiudUuSxWMy3UUygqAkYhlIWNNyx/pDXx14t/YM%2BI9hrXib4HfDzRdNb4c/EG28L2mu%2BKbzXmXUNN0vSdi3Om/ZhDib7SqTEShwA9/cFlAC5%2BlPjtovx0134b3enfs4%2BO/D3hzxWZ4nsdT8U6DLqVkqBwZEeCKeFzuXKhg42k5wcYrjzbFLMcUq0payst9Ekko33astNW27XbbZWGyzLssw8MPhNItyer/mfM27LTVvRLZLQ7GivlX7b/wW28OfNNoH7L3i2NPvfZ9R8Q6HLIPZWjvVB%2BrYqS1/aO/4KtaTIbbxJ/wTM8F6mEjdjd%2BG/j/DiRgpIUR3WmxEZIAGWxzzgCuL6nN/DOD/AO3l%2Btjs%2BqSe04v/ALeX62PqaivlX/htH/goXYn/AInP/BHjxmyjq%2BlfF7wtcD8A95G36Uv/AA3v%2B2BCMXf/AASD%2BMSt3EPizwvIPzGp0fUcR05f/Aof/JB9Tr%2BX/gUf/kj6por5W/4bx/bMuPl07/gkB8XGbsLnxp4WhH5nUjSf8Ni/8FHr7/kFf8EffEEIP3W1n41%2BGoB%2BPkzTEflR9Rr9eX/wOH/yQfU6/W3/AIFH/wCSPqqivlU/Hf8A4K8%2BJ/3Ph/8A4J6/CzwyTws/in48S3QHuUstJb8gxo/sn/gtn4o/cXvjT9mPwbE/35dO0TxBrs0Y/wBkyzWaE/VaPqcl8U4L/t5P8kw%2BqNfFOK/7eT/JM%2BqqK%2BU/%2BGMf%2BChfjP8Ac/Ff/grT4htbWT/X2fw1%2BFGi6KQPRJ7tb2Vceu73xQf%2BCPv7N3i3n9ob4ufGn4tj/n3%2BIfxe1SW1z/16Wcltb4P93y9vtT9hhY/FVv8A4Yyf58qD2OGj8VX7ot/nyo9Q%2BOf7fP7E/wCzRHN/wvf9qnwJ4ZuIPv6dqPiS3%2B2k9wtsrGZz7Khryv8A4eo2/wAUR9l/Yx/Yv%2BMnxbabiy11PCh8N6DKfU6hrRtgV9445PYHIz678Ef2Hf2OP2bPKk%2BA37LvgPwpcRD5b/RvC9tDdN7tcBPNc%2B7MTXqdHPgafwwcv8Tsvujr/wCTD58HD4YOXq7L7o6/ifJp8E/8FeP2hznxr8W/hv8As%2BaDP8x07wLpz%2BKvEIQ8GN76%2BSGyhbH8UdtLjqD6dD8K/wDglR%2ByR4F8Y2/xW%2BJmi638XPHNtzF43%2BMetyeIL2E5yDBHP/o1pg9Ps8MeOg6CvpGilLG17csLQXaKt973fzkJ4utblhaK/uq33vd/NiKqqoVQAAMADtS0UVyHKFFeceLv2s/gB4U0Hxjq8HxJ0vWbnwJp8134k0bQtQhub22EQG5DGHG1wWVTuKhWdd5XOa868YftT/EXxnrPhn4ReFLCT4ZeLNY8XHR9dPinTINTbTM6bd31sIxBcCGX7SLSREkDsoMcibd5Sumng8RU6WXnp0v67dk%2BncpRbPoyqXiPxJ4d8H6Fd%2BKPFuvWWl6ZYQNNfajqN0kEFvGOrvI5Coo7kkCuQ/Zv%2BLWsfGP4ZDxB4r0a303X9M1jUNF8R6dauWigv7K7ltZTGW58tzEJY8kkxyocnOa8%2B8S/8E/vAHxg%2BK958T/2o/iD4g%2BJtnHqrXXhfwP4hlji8PaHHuzGosIFWO7kUHb51z5pIxwDzRCjSjVlGvLlt2V2/JbL5t2t32BJX1OY1H9tP4wftT3k3gz/AIJ0eAYdS0vzGg1D41%2BMbSWHw5ZYO1zYRfLNq8y4YDy9sAYLulIOK779m79in4f/AAF8QXnxX8TeItT8e/E3WYBHr/xJ8VlZL%2BdOpt7dVHl2NqCTtt4QqgY3FyAa9hsrKz02zi07TrSK3t4I1jgggjCJGijAVVHAAAwAOlS1dTF2g6dGPJF79W/8Uv0Vo%2BTBy0stAooplzc21lbyXl5cJFDEheWWVwqooGSSTwAB3rjJPHP2oP8Akt/7OP8A2Wa%2B/wDUK8UV7NXhXx48VeGPG/xQ/Zo8V%2BDPEVjq2l3vxjv3s9R0y7SeCdf%2BEL8UjckiEqwyCMg9q91ptNOzBNMKKKKQBRRRQAUUUUAFFFFABRXM/Cz40/Bz456Jd%2BJvgn8WfDPjHTbDUpNOvtQ8La9b6hBb3kYVpLeSSB3VJVDoWjJDAOpI5FJ4O%2BNvwZ%2BIni/Xfh78P/i54Y13X/C04h8TaHo%2Bv291eaRISwCXUMbs9uxKsAJApyp9DQBwH7eH/JEND/7LN8OP/U10Su5%2BM3wI%2BEH7Qvg%2BTwH8Z/h/p3iDTHbfHDexfPbydpYZFIeGQdpI2Vh2NcN%2B3h/yRDQ/%2ByzfDj/1NdEr2aqhOdOSlF2a6oTSkrNaHzYvwv8A21P2VP3vwM8af8Li8Fw/d8EePNTFvr1lH/cs9VI2XIHaO7XOFA86uw%2BDf7c3wI%2BLficfDPU7/UPBXjlQPP8AAfjyxOmaoCf%2BeSSHZdKcZDwPIpHOa9jrkvjF8Bvgz%2B0F4YPg741fDTSPEungloodUs1doGP8cUn34X/20KsPWuz6zRr/AMeOv80bJ/NfC/8AyV%2BZj7OcP4b07Pb5PdfijraK%2BcV/ZW/ac%2BAv7/8AZE/abnvtJi/1Xw/%2BLvm6tYqvQR2%2BoIRe2ygcKGM6j%2B7jinj9vXWvhMfsP7Zv7N3iv4crHxJ4q0yE694eYdA5vLNTJbg9cTwx4HU8E0vqUqmtCSn5LSX/AIC9fuch%2B2Uf4i5fy%2B9frY%2Bi6q63oeieJdJuNA8R6Pa6hYXcRjurK9t1lhmQ9VdGBVgfQjFY/wAM/i98KvjP4fXxX8JPiPoniXTWx/puh6nFdRqT/CxjY7W/2TgjuK6KuSUZ05Waaa%2BT/Q1TTV0fNutf8EyfhD4X1e48X/smfEHxb8D9ankM0g%2BHmphNIuZexn0m4WSykUeixof9qq48U/8ABUX4EHyfFHw38CfHXRYflGo%2BFL8%2BGddKjq72l20lnK2P4Y54s%2Bg7/TVFdax9aStWSqL%2B8rv/AMCVpfizTnfXU%2Bb9J/4KmfswaXqUPhz9oC38W/BzV532R2PxX8Lz6VC57lL3D2br7rOc/nXvfg3x14I%2BIuhx%2BJ/h94y0rXdNm/1OoaNqMV1A/wBJI2ZT%2BBq7qukaVr2nTaPrmmW97aXCFLi1u4VkjlU9QysCGHsa8G8Y/wDBLr9iPxLrcni/wx8Hh4F19%2BV1/wCGerXXhy6R/wC/nT5Ikdup%2BdW5OetF8vqbqUH8pL8eWX4sPcfkcR%2B3dceIvjL%2B1p8Ef2VPDdpb6TcWniGLx4PFOqPuhYae0oazgh6Tz7cuwbAVSh6FiPrivhH9rX9gj9ob4beDLf8AaF%2BEn7avjrxTqXwoE/iDw3ofj%2BzstSuAUQG4jS%2BjihnKtEhBjk80SbQp5O4dt8If2jv%2BCm3iT4W%2BHvi5D%2Bzz8J/iVoviLSIL%2Bzbwh41u9AvVSRA217e/hmiDjO0qLjG4H5q9jGYaGJyvDSw9SLjDmi7vlfO3zt%2B9/NGzSukuVpXPCwMPY5ziqc3eU%2BScXsnBLkSS7wldPq%2BaLPriivmv/h4P438I/wCj/Gv/AIJ8/HTw5Mn/AB8XOieGrbxFZoO5Eul3MzkD18scVNYf8Faf%2BCf8l2mmeJ/j2vhW8c7Ws/G/h3UdEdG/un7dbxLx7Ej3rx/7Ox32abf%2BG0v/AElyPd5J9j6Oorz3wZ%2B1v%2Byp8Rgh%2BH/7THw/1wv91dJ8Y2VwT7YjlJz7V39vc295AtzaXCSxuMpJG4ZWHqCOtcs6dSm7Ti16pr80iWmtx9FFFQIKKKKACiiigAooooAKKqaxr2h%2BHbQ6h4g1q0sYF6z3lysSD8WIFeZeNv28f2JfhyHHjf8Aa4%2BG%2BnSJ963n8aWXnfhGJS5/AVpTo1qrtTi36Jv8kxpN7HrFFfNjf8FZf2L9YJt/hd4m8WeP7o/6u18AfDrWdVMn%2B7JDamI/990h/bh/aM8a/L8Ef%2BCaXxUvx/z9eO9Q0vwzB9cT3Mk%2BP%2B2O7/Zrp/s7Gr4ocv8Aiaj/AOlNfkVyS7H0pRXzVv8A%2BCs/xJ%2B7b/BH4WWU/d31LxRqNuPoBZW5b/voH2pD%2BwN8WfiF%2B8/aR/4KDfFnxMrcS6V4QubXwpp8i90ZNOjFwy9ubgnHUmj6pSh/ErRXpeT/AASX4hypbs%2BlBLG0jRLIpZQCyg8jPTP5V4t8K/FfxA%2BF3x78X/B/40fFi88Q2N9o0HinwprWs2lpaiC2Ehtb2yBgiijEcD/ZHBYFyLz5mY11H7Pn7KnwD/ZY0nUdH%2BBXw/TRU1i4SfV7iTULi7ub6VFKrJNPcySSysASMsx61oeJP2ePgl4z%2BKenfGvxn8NtN1jxPo1obbRdV1aI3J01CSWNskpZLd2z80kaq7AAMxAAERnh4SnHVxa0dle%2Blurtre%2Buwk4q580W3wS8TeJ/FPhL4OXHw71S/wBOs/EfiGSXxxZ7G0vUfCWrrdTyqblCQLlrj7E/l7Tuki342ksPSPAf7HPi7W59Tn/aT8a6brkp8P6RpGj3vhuC4sbpJNOeSSLVmlMhaK9MkgP7s7E8sYzvYV9BdOlFa1MxryVo6fnve9%2Bl%2By0G5s534XfC/wALfCDwhF4M8JG%2Bkt1uJrm4u9U1GW7uru4mkaSWeaaVmeR3dmYknAzgAAADoqK88%2BNf7WP7OH7Osaj4y/GLRNEupcfZ9KkufNv7jPQRWkQaeUn0RD1FcsY1sRUtFOUn21f4Gcpxirydj0Oo7q6trG2kvb24jhhiQvLLK4VUUDJYk8AAd6%2Bd2/ai/ar%2BOA%2By/srfso3ekadLxH43%2BMcj6RaAdni06Pde3CkcjeIAfUdadbfsD3PxWuY9b/bZ%2BOuvfFGRXEi%2BFYx/ZHhqBgcqBp9s2bjaeN1zJLkdQK6PqkaWteaj5L3pfcnZfOXyMfbOX8ON/PZfjq/kiz4p/wCCgPg/xHr1z8PP2RPAGqfGPxNbSGK6bwxKsWiadJ/096tJ/o8ff5YzLJxjZms%2BD9jj4sftE3Eevft6fFePWtO3iSH4VeCXmsvDsJByBdSEi41MggH96UiyD%2B6wa%2BgvDHhXwx4J0G28K%2BDPDlhpGmWUYjs9O0yzSCCBP7qRoAqj2Aq/T%2Btxo6YaPL/eesvv2j/26r/3g9k5/wAR38tl/wAH5/ceGfH7w54e8IfFL9mfwx4T0Kz0zTbH4wXsNlp%2Bn2yQwW8Y8E%2BKMIiIAqqPQACvc68Z/ag/5Lf%2Bzj/2Wa%2B/9QrxRXs1cTbbuzfYKKKKQBRRRQAUUUUAFFFFAHyr%2Bwt8UvDUPxZ%2BO2nQ/C/4i6FaeIPjLb33ht9b%2BD3iHSbW6sm8O6JYrNHJdWEUYjFxY3KE5AQRhmwjozcR%2Bwp8P/iDpfxh%2BFPhjVvhR4o0PUPhP8M/GOg/ErXtZ8NXVlZ6nqd/rOlzQta3Usaxamty9nd33nW7yrGHHmFJJitfcNFAHzx/wUL034rz%2BD/Bmo%2BHPGnh618LQ/GH4ejXtGvfDE9xqF458Z6N5bW94t7HHbBW2lg9tMWAIBTII2vHKftz/DLxjqXiz4fy%2BF/id4Xu7t54fCOoAaLq2nRk8Q212u6C4VR/z3VGPTf3qf8Abw/5Ihof/ZZvhx/6muiV7NWlKp7N7Jp9Gv8AhmvkzGvR9tFJScWtmnb/ADT9GmjxLwb%2B3z8CtT1%2BHwL8WDq3wx8TzHamgfEawOmmZun7i5Ym2uATwDHKxPoM4r2uGaG4hW4t5VeN1DI6NkMD0II6is3xj4I8GfEPQZvCvj7wlpmt6ZcDE%2BnavYx3MEn%2B8kgKn8q8Wl/YJ0PwBM%2Bpfso/Gnxd8K59xddJ0q9/tHRGc9S2nXm%2BNQf%2BmRi9iK2thKuzcH5%2B8vvXvL7mc18wobpVF5e7L7neL%2BTie%2B0EAjBGQeorwEfEP9vr4Qfu/iF8EvDPxR0uLrrHw91T%2BzNSCDqz2F8xjdyOcR3H0Har/hv/AIKF/syX2rxeFviJ4l1H4da5KcDRfiVo82iy59FkuAIJM9tkjZ7dRQ8HXavBcy/uu/4LX8BrMcKnao3B9prl/F%2B6/lIsfEr/AIJ/fsrfEnxA3jmH4cnwt4oOSni3wHfzaJqSuf4zNZtH5p/66Bx7cVzo%2BBv7enwhGfgr%2B1lpXjvTo%2BIdA%2BMPh8GcJ6DU9OEchb3kgk9819A6Vq2la7p8WraJqdveWs6boLm1mWSORfVWUkEfSrFVHG4mK5ZvmS6SXN%2Beq%2BTR0expP3o6ea0/LR/cfO4/bG%2BP/wANv3P7Rv7CvjWyiXhtd%2BG91D4nsmA6yGOHy7uNe%2BDASPfrXvuga3ZeJdBsvEempOtvqFpHc263Vs8MoR1DKHjcBkbBGVYAg8EAirdR3cMtxay28F08DvGypPGqloyRgMAwIJHXkEeoNZValKpblgovrZu33O9vvZcIzjvK/wBxwHwU%2BJnxA8c%2BNfiF4X8ZaXoyW/hLxUmmaZfaPJLi4jezgu9sqydJUW4jVip2k5wBjFReA/2lvDnjdtb1OfwP4g0TQNDk1AS%2BLtajtU0y4SymeK4lSWOd2RFaOTmVI%2BEY4wKqfBP4HfE74KW2vQSfFq08VNrviC71i5utY8PJa3TzzRKoV5LZ1iIDRxjIhBCDbjgGvAP2ivCcXwN8AeOfiB8TrT4dfDvT/FGm2NjL4R8N6%2Boh8R3KagLm9uszW9qr3L2zSxKhU7izGSXDbl7qOGoYrEOnDVvlUbX8r2ja7b1fZddDmq13h6PtKjsldtu1vK7ul2Pp7RvjP8FPiZ8OtW8XWfjWwm8O2qy2ut3WoFrVLYbBvWYThGjBR1I3AAq6kZBBrxv/AIJFX%2BpXP7DPhzTbkTy2GmarqlpoOozxlDqFgt7MYZ1BAIUhioyB9yvj/wCJXxSv/wDgoB43vJzpXiDwf8D9a8cR3vjLxbNpczvqH2ezaC1sY0hVgzyRxPuc70VngUnKIsn6EfsceCtf%2BGP7LvhHwn4q0V9LubPS2k/scqS2mwySySxWeOT%2B5idIccn93616OPwayvK5UJv35zjLle8FGL3t9p8zTXRWvq0jysJWWZ5nHFUv4cIyipLabk1e392PLo9m27OybfqFQ3%2Bn2GqWj2Gp2MNzBIMSQzxB0YehB4NeBxf8FRv2KLSRbXxl8UNQ8J3OcPbeMvCGqaUUPoWubZE/JjXb%2BE/2zv2Q/HYUeDv2ovh9qLv0htfGFk0g9inmbgfYivDlgsbTV5U5L5P80n%2BZ7ir0ZPSS%2B9EPjP8AYh/Yz%2BIhd/HX7J/w31aR/vT33gqxklz6hzFuB9wa4G4/4JG/8E7Xme50r9myy0aRzkv4a13UdKOfb7HcRY/CvoXSdb0XXrUXuh6va3sJ6TWlwsin8VJFWqcMbjqStGrJf9vS/K/6G6nK2jPm3/h1z8DNN48DfGX43eGFH3U0L4266ir9BLcv%2BtH/AA7lv7bjR/8AgoF%2B0lZgdB/wsaC5x/4FWcufxr6Soqv7Rx3Wd/VRf5xY%2Befc%2Bbf%2BGDPjNacaR/wU1%2BOyAdPts%2BhXB/NtMGaP%2BGJv2m04g/4KifFoD/ppoPh5j%2Bf9nV9JUUf2hiu6/wDAYf8AyAc8v6t/kfNv/DEf7SkvF3/wVC%2BLrDv5Oi%2BHoz%2BY06j/AIYC%2BKV6Ma3/AMFL/wBoGT1FjquiW2f%2B%2BdLOK%2BkqKP7QxfRr/wABh/8AIBzy/q3%2BR82n/gm9Bdf8hv8Abs/aSvQfvD/haz2uf/ASGLH4Yo/4dU/su6p/yPniX4q%2BKs/e/wCEi%2BM/iGUN9Ql4gNfSVFH9o47pUa9LL8ooOefc%2Bd9H/wCCTf8AwTl0e7F%2B37JXhfUpx/y28QJNqbH6m7kkz%2BNem%2BCf2XP2ZvhoyN8Of2dvAugGP/VtovhKztSv0MUS13dZfiPxz4J8HxGfxb4w0rS0AyX1HUI4Bj6uwqJ4vG19JVJS8ryf4X/QlzlbVmoAFAVQAAOAKK8i8Xft/fsQeBgw8S/tafD2GRPv28Hiu1nlH/bOJ2f9K5g/8FOf2W9Y/d/DIeOfHM38MPgv4a6xfbvpILYRn8HojgcbNXVOVvRpfe7L8TF16CdnJff/AMOfQlFfPf8Aw2R%2B0B4t4%2BEf/BO34mXg/wCfjxnqOl%2BH4vria5klx/2zz7Uh1f8A4KieOvnsPBvwZ%2BHttLwRqeraj4hvIR67YY7SEkf75HtVfUasfjlGPrKP5LmYvbwfwpv0T/Wx9C1S8QeJPDvhPS5Nc8Va9ZaZZQjM15qF0kMSD3dyAPxNeD/8Mi/tNeOOPjV/wUK8bSwHk2Hw80DT/DsYPceaEnuMf9tQfQirmgf8E0P2NtP1SPxF4x%2BFkvjjVkOW1b4ja1d6/M7f3iL6WSMH/dQCj2ODh8dW/wDhi/zlyr8A560to29X/lcXxL/wUq/Y/wBL1WTwz4I%2BJE/j7Wk4XRPhro1zr87t/d3WSPGp/wB51FZ5/aF/bi%2BKx8r4H/sYQ%2BFLKX/U%2BIPjD4mjtCo9Tp1h585Ps7x/h2958N%2BFvDPg7SY9B8IeHLDSrGEYistNs0giT6IgAH4Cr9P2%2BEp/w6V/OTv%2BEeVfiw5Ksvilb0X6u7PnY/siftG/Ff8AfftN/tseJJbST5pPC/wtsU8N2Iz96NrhWlvZkxx/rkz6dc%2BhfBX9kP8AZo/Z4ka8%2BD/wa0XSL%2BXP2jWjbm41CcnqZLuYvPJnn7znqfWvR688v/jfr%2BifFLTvBHiT4T6hp%2Bj61rEmlaP4hn1G2b7Vdrby3H/HujF1iZIJdrk7iUOUUYNJ4nF14uCdo9laK%2B5Wv87kSWHoNSlu3a7u/wAdbfgeh1leMPG/hfwF4av/ABd4r1UW1hpsYe9lSJ5WQEgABIwzsxLABVBJJAAOa8N%2BIfxa%2BJXhT4keLPGo%2BIE8Ol%2BDvEukWd34SltoPss2kXkVukl2HEfneaJZ/MD%2BZtVYWTZ1J8u8MfDc6lHa/A74b7dI8djSb6PxhGbYxK%2BpaZeLdabq92FAEhnuAp8/B85JZVyduBdPBJrmnLTT/N3%2BTWuu5xVszcZOFOF3qter1St31T0bTsvu%2BvfAPxF8I/E3RG1/wdqTzwxztBcxT2slvPbTKAWhmhlVZIZAGUlHUMMjI5rzf4nftWeItG8cX/wl%2BB/7PHi7x54m05kS%2BkS1/szR7J3RZFE2o3QWMnY6tiFZTg4xnitT4EeHPHcfj/x18SPF3ge68MReJ7zT5I9EutSt7ktcW9oLeW7DQOyqJFSCMAkMVt1ZlUsVHp9YP2NGq7rmXr187b220aOpfWMRh1aXI7u7tra7WiltfR6p27bHgPxhuPHl148/Zhufifpml2evv8Xr06pa6JdyT2sUv/CFeKfljkkRGYYxyVHOa9%2Brxn9qD/kt/wCzj/2Wa%2B/9QrxRXs1YN3dzriuWKV7hRRRSGFFFFABRRRQAUUUUAFFFFAHjP7eH/JEND/7LN8OP/U10SpvGVr%2B2x4I8V6h4j%2BH%2Bp%2BDfHfh%2B4unmt/DGsQyaPqFnETxBDdx%2BbFLgfxSxqT3b1h/bw/5Ihof/AGWb4cf%2BproleyRyxSgmKRW2sVO05wR1H1q4T5Hsn6nNisMsTFLnlBrVOLs/yaa8mmjxGH9unwP4RlXTv2jfhr4u%2BGN1uCNdeJNIM%2BmO/omoWnmwEe7sn06V614N8eeB/iJo6eIfAHjHS9csJPuXukahHcxH/gcbEVqTQxXETQTxK6OpV0dchgeoIPUV5L4x/Ya/Zn8V6w/irS/h/wD8ItrrZK6/4HvptGvFb%2B8XtGQOf98NV3oS3Tj%2BK/Gz/FnFyZzh/hlCqv7y9nL7480H84xPXKo%2BI/C/hnxjpEugeLvDtjqthOMTWWpWiTwyD/aRwVP4ivHP%2BFIftd/Dj5vhF%2B1dF4is4/8AU6L8UfDyXZI9DfWZgm/Flf8AHv6T8JNU%2BL%2Bq%2BGJH%2BNvhDRNH1mG8eJY/D2ryXlrcwhVKzK0kUbx5YsNjAkbQc84ClDkXNGSf3p/dubUMZOvP2VahODt1SlF/9vRbXyaV%2Bx5lqn/BOv8AZtttQl134S2fiD4Z6nM25774a%2BI7jSVJ97dGNsw9miI7dKhHwf8A28vhx83w1/as8PeNLVPli0z4m%2BEBHKF9De6a0RJ/2mhb3zXReNNe8Qy/H3Q9I%2BGPjzWL26%2B2RjxZoaLFLpdhpyxSFpJWMe6Gdn8sIqyb2JyUKKxHgH7Zv7VvxF%2BKv7R%2BgfsKfsy/EZbGbVdVs4vGmv8Ahmf/AE7TbU%2Ba11Gtz80du6xKp4BkDceoPp4OGMxtZU3JONrtyXMopbt6X6ae8r6JHjY7GZXl9KdRQlGXOoRVN255S2Ss%2BXr714vl1udH8TP%2BCl3iz9ly9XSf2tfgdo9k68SXPgX4jadqEsn%2B2tjdta3QX6K2PXnFcf8AEP8A4Lb%2BAfstlZ/Bj4Ha9cXGpkLbaz4/uoNB0mPPRzPI7%2BYB1KjbkdDXefs3/Br9h74ReIjB4Z%2BAIhcRalc2fxJ8YR297JqrWM3l3s/2iWR5YSHy%2B4pEjqCyZAOPoTwN8R/h78YtIvH8L3L3ttbyCC9tr/S5rdlLIrruiuI0YqyMrK2CrA5BIrqnWyPDyvHDSqNdZS5I/wDgEXJ/Jz8mY4d5zjY8qxsIXvZKKnLTf35KF/VU2uqbPmHwLfft8ftT24vdN/bk%2BD3hPT5l3G3%2BFFhHr04j/utLcyEK2OrIcDtXoXwn/wCCd3wt8JeOW%2BLfxs8Y678WfF/2cQWms%2BP5I7qPT4%2BcpbW%2B3y4gSSc4YjJ2kZOep8dfsKfsc/Ei4N94r/Zt8Ivdltxv7HR47O5J9fOtwkmffdXO/wDDv7wNoHy/Cf4%2BfF7wVEv%2BqtNE%2BIl1c2yH/rjf/aEx%2BFRPNnODhRn7FPRqNOMdO3NF87X/AG9r17HVTyidOanXp%2B2ktU5VZPXuozXIn293Tp3Pd7a2t7O3S0tLdIookCRRRoFVFAwAAOAAO1PrwYfAH9tjwzz4L/bwXU4o/wDVWnjX4b2N1uHo01m9s/44Jo%2B3/wDBTHw589z4c%2BCniuJOq2eparo80g9hJHcoD/wLFeV9WjL4akX82vzX6nr/AFycfjozXolL/wBJl%2Bh7vLFHNG0M0aujDDKwyCPQiuI8Wfsxfs1%2BPSx8c/s9%2BB9ZL/fOq%2BE7O4J/GSM15/8A8NFftmaLz4q/4J931zGv%2Bsm8LfEnS7z8Qlx9mc/TFH/Dc2oad8niz9i3456ay/6xofBEeoIPobK4mJH4VcMPi4O9N/8AgMl%2BkkJ5hgmvfuv8UJL84MNW/wCCYH7AOrXJvf8AhlrwzYzHpLokUunsPobV48fhVX/h2V%2BzLp3PgzU/iN4bI6HQfi1r0O36BrtgPwFW/wDh4/8Asz2HyeL18c%2BHX7x698MNbg2/Ui0ZR%2BJqS1/4KX/sI3Uwt5f2lvD9pIf%2BWep%2BdaMPqJo1Iro587S3m/vf/wAkZfW8mv8AHBfNL8%2BUoD/gn1aWvGi/tnftBWQH3QPihLc4/wDAqKX9aP8Ahh/4nWP/ACA/%2BCiHxwi9BfX%2Bj3WP%2B%2B9OFdfpv7c/7FurgfYf2s/hwSeiyeNLKNj%2BDyg1t2X7T/7NWpAHTv2hvA0%2Benk%2BLbNs/lLUPEZmviT%2BcF%2BtM2jUy6Xwzj8pr/5M82/4ZH/aft%2BNO/4KT/EVQOn2nwt4fm/nYik/4ZZ/bGXiL/gpl4wA/wBv4d%2BHG/8AbOvXIPjb8GLoZtfi74YkH/TPX7Y/yerC/Fb4XOMr8SdAP01iD/4qo%2Bt4xbxX/gEf/kDRRwr2l/5N/wDbHjf/AAyt%2B2DJxcf8FMfGZH/TP4f%2BHU/lZ0v/AAx/%2B0hdcap/wUj%2BJzg9fsmg6DB/KwOK9if4tfCuIZk%2BJnh9R6trMA/9nqpc/Hf4H2YJvPjL4UiA6mTxFbL/ADehYrGvaK/8Aj/8gDWFW8v/ACb/AO2PJ/8AhhXxxefNrf8AwUG%2BPM57ra6/pdqp/wC/WnAj86P%2BHePhq848QftYfH3U1P3o5/i3ewo31W28oV6JfftXfst6WCdS/aT8AW4HXz/GNimPzlrC1T9vr9iLSATd/tZ/D1sdRbeLLWY/%2BQ3arVfNJfCn8oL9KZlKrlsPiqR%2Bc1/8mcx/w6%2B/Y/vvn8V%2BG/FviCQ/efxB8S9dut31VrzYf%2B%2Ba1PDn/BNf9gbwvKJtO/ZH8CzuDnfqmgx3zE%2BpNwHyarv/AMFNP2GC5jsP2gLDUWBxt0fS729P4CCF803/AIeJ/A7UuPBHgX4o%2BJifu/2F8KNZfd9DJbIKtyzpqzc0vVr9YmSxeTp6Tg/Sz/JSPU/CPwV%2BDfgAqfAfwl8M6IU%2B4dI0G3ttv08tBiumrwY/tqeOtY/deCP2E/jPfyH7japo1hpcR%2BrXV4rD8Vo/4Xh%2B3drv7rw9%2Bwvpekb/ALtx4q%2BKlouz3aOyguM/QNXNLDYmTvNr5yX/AMk2arMMIlaCk/SE3/7ake80V4N/Zv8AwUw8S/urvxR8FvCcT9XsdM1TWJ4x7GSS2Qn6rSf8MvftSeKP3XxJ/wCCgfiryG%2B/b%2BCfCOl6Pj/dkeO4lH/fZqfq9NfFVivS7/JfqP65Vl8FCb9eWP5yv%2BB71XCfET9qH9m74SCQfEz48eEdDkjzuttR8QW8cxPoIy%2B9j7AE1wH/AA7n%2BAWufP8AFjxJ8QPHz/8AU5/EPUrmP/vzHLHDj22Y9q7v4d/sp/szfCUxyfDX4A%2BD9FmjxturDw9bpPkdzLs3sfck0cuDjvKUvRJfm3%2BQc%2BZT2hGPrJyf3RSX4nBn/gon8GPEfyfBXwD8RfiO3QSeDPAl49vntm5uVhgx/teZj3o/4W3%2B318Qv3fw/wD2U/DHgq3bmPUviP40FxJt9TaaakmD7GZfQ4r3uij21CPwU1/282/w91B9WxdT%2BJWfpFKP4vmZw3wR8LfH3w9Z6hdfH34s6L4lvb2WN7O20DwydOttNUBt8aFppZJgxIO5yCNvTmsr4nfCv4v%2BMfjd4b8deFfGXhzTdF8P6XcJHHqWjT3l0LueRFlljCzxRqfs6GNXbft82Q7DkV2Hjn4qfDH4Y2f9ofEj4i6HoEG3cJdZ1aG1Uj2MjDNeXz/t%2B/ArWJWs/hFpvi34i3KMVaLwJ4TuryIH3uWVLcD3MmKUHXlN1Ix38tO3kvxMMTicrwsFQr1kmmnZzvN2d9lzTf8A4Cd3rHwF%2BG/izWNL8T%2BO9GGt6vpEvmWmqXmI5DiQSorrAESVEdVZVdWClQevNdnXh5%2BJv7cnxD%2BTwD%2Bzn4b8EWrcpqPxD8Tfapyp7/Y9PDYb2adffFIf2WfjP4//AHnx6/a/8V30LctovgW2i8PWeD1Rni33Mi9uZhn9KUoNpe0mtPn%2BC0/Ezhj3Jv6phpyv1aVNP1c7Sf8A4Az0P4pfH34J/BOz%2B2/Fn4p6HoAK7o4dR1FEml/65xZ3yH2VSa86/wCGvvG3xG/cfs0fsy%2BLPFET/wCq8Q%2BJIv7A0kqekiyXa%2BfMvtHCc%2Bvp2Hwu/ZO/Zy%2BDN5/a3w8%2BEOj2mpFtz6zcwG6v3buWupy8xP1evQ6nmoR2Tfrp%2BC/zL9jnGI/iVY0l2guaX/gc9F8oHgnxok8by/EH9mOT4kWulwa63xfvTqcWiTSSWiS/8IV4pyImlVXZcY5YA173XjP7UH/Jb/2cf%2ByzX3/qFeKK9mrJu7uepCPJBRu3bq9367a/IKKKKRQUUUUAFFFFABRRRQB8u/Ab9sb42/ED4xeFpPG2meFl8B/EzWvF2meCrPS9NuYtV0uTRbuWKGS8uHuXiulu7e2uZiscMBt28uPM%2BTILvwr/AGp/i7rv7aXiv4G/FjxNonhnRbfxPc6b4A0C/wDhPrdpc%2BJ7aLS7e7Nxa69PdjT7uRXa7LW8EDSCO1ckAIzjovB37BngbwF8SZviN4X%2BLvjeAW11rN14U0J59OlsPC0%2BrXq3mpS2KPZF2aeUOP8ASXnEKTSxwCFXxW/ffstQeIvjlovxr8e/G/xr4ih8La1c6v4R8HakdMj0nRb6azuLJp4vs1lFdTFba7uo0FzcTKonYgblRlAOM/4KF/Fz4UeGvB/gz4UeI/id4e0/xT4g%2BMPw9l0Hw1e61BFqGpJH4z0ZpGt7dnEkwVVYsUUgBSTjBrtfF/7Ifwp8Q%2BJb3x14Xv8AxD4P8QahO019rXg/X5rKS4kPJaSPLQyknrvjOe9Zf7eH/JEND/7LN8OP/U10Sum8RfFb4n%2BD9du4tZ%2BAeq6jo0c7C01Xw1qEN3K8eflZ7ZjHIpx1C7/xrKtXp0EnO9vJN/fZO33Hm5lSy6rSisZT5op6Plk%2BV23vH3o6dU12uc5/whf7aHw%2B58JfF7wx47s16WfjLR20%2B7Cj%2BEXVllGb3aH6%2BtH/AA1D4%2B8Hfu/jV%2By14z0ZV%2B/qXhtI9dslXuxa1PnKP96Ee9dFon7UfwO1e9XSL/xtHomoHhtO8S20mnTKfTFwqAn6E13tpeWmoWyXlhdRzwyDMcsLhlYeoI4NKliKFdXpzUvRp/8ABXzSOChhYVFfL8bLTo5RqxXqp%2B%2Bv/A0cB4G/aw/Zv%2BI11/Z3hX4x6I97u2nTb66%2Bx3YPoYLgJJn/AIDXoSsrKGUggjII71geOfhR8MPiba/Y/iL8O9E12PbhRq2lxXBUf7JdSV%2Borw/4%2BfAH4Afs0/BzxJ8ZfDPjbxf8PLPQdKlun/4RXxXcRQySAYiiFtM0kJLyFEVdgBLAcda6aVOpWqxpwV3JpJebdl%2BZrVxGdYKlKpVhTqRim21KVN2Su3aanHZfzI8m8OfCrXv26/jl411z4KeLda%2BF/wAIbLWLjTtf1Twpey217471IP8A6XIBv8qKIEBfO8sswJHO5lj94%2BFv7Bvwr%2BDN1pmk/DvUZ7DwxpWsRavb%2BHY7C2DS30cbJHLNdiMXE4XezASuzZ2/MFXbXl/7A/wF/bF%2BEP7I3gq28K/FDw7bPd6a%2BozeFPF3hV2%2BzNdSvcYa5t5kl3ESAkOrFSdv8OK9g/4Wj%2B2B4U/deL/2YdI8QInMl74K8aRgkeogvo4T%2BG8mvazbHVIYieEoStRg%2BVJfa5dOaT%2B1J2bu27XtGyR8/lcMDChDE43C1FVn7zlyOUVzPmtFU5S5Y7e7yK7V53k2chrX7KvxWufhbeeEtY1HTNSXRPDz6X4csdNmZJdUje5Et087yhEhmngXyNoJRTI7F8EBfT/g34b8WS%2BMfF3xZ8ZaDc6PP4lurSHT9FvJ4pJrSztYSieaYXePzHlknfCOwCsg3HFc/wD8Nn%2BDNF/5KX8JfiP4SVf9Zcax4KuJoFP/AF1sxMh%2Bua2fC37YH7LnjKQQaF8evC5mJwLa81aO1mz6eXMUfPtivIlXnOLTPTwlbhyliYuniUpL7MpKLbSaWk1CWibSVrerV3V%2BI3x8%2BKvw58ZXmlj9k3xj4i8Pw%2BX9k8Q%2BFr/T7lrjMas/%2BiyXEcqbWLL0OduR1rD/AOG/fgjo/wAvxJ8MeP8AwY3/AFNHw81KFB/20jhkjx77se9ezabqul6zarf6PqVvdwP92a2mWRD9CpIqxSU6VrOH3N/8E9aWHzFyc6OJ0eqUoRkvROMou3bf1Z5d4W/bb/ZB8ZMI9B/aU8GNIxwsF1r8FvKT6bJmVs/hXoWheKfDHiiD7V4a8R2GoxYz5ljeJMuPqhIql4p%2BGHw18cBl8a/DzQ9YDDDDVNJhuM/XzFNee67%2BwJ%2Bxh4gn%2B1XX7NvhW1lzkS6TpwsWB9QbYoR%2BFP8A2d919z/yJvnkOlKfzqQf5TR69RXiQ/YC%2BBumc%2BB/EvxC8MHt/wAI/wDEvV4gPoHuHA%2BmMUf8MdeKdO%2Bfwv8Ato/GOzYfdW81%2BzvkH1FzaOx/76o5KL2n96f6Nh9azaPxYVP/AA1Y/wDt0Ys9tqK7srO/iNvfWkU0Z6pLGGH5GvF/%2BGfv2s7D5dG/b11Z0H3V1j4faTcY%2BpjSIn86P%2BFY/t5aZzYftW%2BCtTx0Gp/DB4s/Uw3/APSj2UOk1%2BP%2BQf2jil8WEqfL2b/Koj0nUvg58ItZJOr/AAr8N3RPX7Todu%2Bf%2B%2BkNYl7%2Byj%2By3qRJ1H9mzwBcE9fO8HWL5/OKuR/sv/gozafLF40%2BC98B0abw7q0DH/vm7cfpR5//AAUch/5hfwSuP%2B3/AFiHP/kJ60XtY7VV/wCBMxljaEvjwlT/AMFRf/tzNyf9iD9jC5O6b9kj4ZknqR4F08H9Iart%2BwZ%2BxK5yf2Sfhz%2BHg6zH8o6y/wC2/wDgovD/AKz4cfBqb/rl4u1Vf/QrGj/hKf8AgoYvB%2BDfwnb3XxxqA/nYVfPil/y%2B/wDJ3/mZvEZc98HP/wAEGrH%2Bwf8AsTRnK/sk/Dg/73gyyP8AOOrdt%2BxT%2BxvZnda/smfDSMj%2BJfAmng/n5Nc//wAJP/wUOfhfg/8ACVPd/G%2Bon%2BVhR/a3/BRmb7ngP4LQf9dPFOrOf0sh/OhzxT3rf%2BTv/MFiMvW2Dn/4IR2lj%2BzD%2BzVpZB039nnwNb46eR4Ss0x%2BUVbumfDH4baIQdG%2BHuh2hHQ2ukwx4/75UV5du/4KOzf8sfglbf8AbXWJ8f8AjqUf2D/wUTv/AJbn4mfB7Twf4rPwjqc7D/v5eqD%2BVQ1Ul8VRf%2BBNmscbRj8GEqf%2BC4r/ANvR7YkaRII40CqBgKowBS14l/wqP9ubUPmv/wBsfw1YZ6ppfwrRsfRpr1v5Uf8ADOH7TOp/J4l/b28VGM9U0bwfo1n%2BTG3kYfmaz9lDrNfj/ka/2hi38OEqfN01%2Bc2e20V4kf2Lbi958Sftd/GrUC33lXxslkp%2Bgs4IiB%2BNU4f2FP2SNY1ebQ/E7654n1O3jWS6ttf%2BI2qXkyI3Rnia6wAfUrzRyUFvP7l/myXi81dksPGN/wCarH/22DPXfE3xN%2BG/gpWbxl8QdD0kL946nq0MGPrvYV55r37ff7Gnh65%2BxXH7Rfhq9nzgQaJeHUXJ9AtqJCT7Cq3wu/Zd/YIvYZr34W/Bb4b6sLK4MM91a6ZaX7QygAlTIwcq2D65r1nQfCvhfwrbfY/C/huw02HGPKsLNIV/JABR/s67v7l/mKnPOcRBShKik%2Bq56n43jFnkH/DdXgnWefhv8D/iv4tRv9XcaP8AD26ghb/treiBB%2BJo/wCF5fth%2BKPl8EfsVjS4pP8AVXvjbx7Z220erQ2i3L/hkGvbqzfEXjHwh4Qt/tfizxVpulxYz5uo30cC4%2BrkCj2lJbQ%2B9t/5Dnhcdy81fFuK/uxpwX3y53%2BJ5F/wiH/BQPxiNmvfGb4ceCojzjwx4VudVnHt5l5NGn4%2BV%2BBo/wCGMtU8UfvPjF%2B1X8UfE5f/AI%2BLK219NGs5R6eTp0cJx7FzW3rf7bv7KWiXf9nj426RqVz2tvD5k1ORj6BbRZCapf8ADWt/r/7v4Z/sz/EzXmf/AFFzP4fXS7Z/fzb6SI49wpo9vUXw2Xol/wAFnlSq8NOXLUxDrPt7SdX/AMlp3X4Gh4H/AGKP2UPh3ef2p4a%2BA3h5r7du/tLVLP7fdbvXz7oySZ991enwww28SwW8SoiKFREXAUDoAB0ryD/hLv24PFv/ACAfg54G8IRf89PE3iebUpsevlWcSJn2838aT/hRH7Rni3/kpP7XeqWsD8yWHgbw7a6YF9hPMJ5ce4IrOU5zd5Nv1OzD4ujQhyYDBTt5QjSj983F/wDkrZ65qGpadpFnJqOq38NrbxLmWe4lCIg9SxIArzHxD%2B2p%2BzZomotoWl/EeLxFqY4XSvCFpNq07N/dxaLIFP8AvEVRsf2L/wBmePWYX8c6Pc%2BMNYKmRJvHHiC41SWQDqwiuJGjx9EAru/h9rPwohmufBXw2h02z/s9iJdP06wFtGu1ijFAFVXAYbSUyAeCQaydSCkk2rs0dbOqslFulRvort1Jell7OF7epwf/AAvT9ovx0Nnwm/ZWv7CCTiPVviJrEWmIh9TbQ%2BdOR7FUP8qD8Fv2mviB8/xY/aabRbWT/WaP8N9HSyx7fbLkyzH6qE/w9V1/xN4b8K2R1LxR4gsdNth1uL%2B7SFB/wJyBXCXP7Vnwou53sfAf9seL7pGw0HhPRprxR9ZQBCB7l6yq4rDUHapNJ9r6/dq/wMK%2BFwlN2zDFym39nmUE/SFK0n98jkPjh4Ws/BXxH/Zl8KafqF/dw2PxgvY0udUvnubiT/iivFB3SSyEs7HPUmveK8L%2BPerXuu/FD9mjWNR0C60ue4%2BMN88mn3rIZYD/AMIV4o%2BVtjMufoTXulbxkpRTXU9%2BkqcaUVTVo2Vt9rab67d9e4UUUUzQKKKKACiiigAooooAKKKKAPGf28P%2BSIaH/wBlm%2BHH/qa6JXqVl438Hajqs2hWPinT5b63lMU9ml2nmo4OCCmc/pXlv7eH/JEND/7LN8OP/U10SvTfEvw78CeMAf8AhKPCGnXzEf624tFLj6PjcPwNcWN/tFQTwfI3fVT5kmvJwu079WmvImXN0Lut%2BHtA8TWTaZ4j0Oz1C2b71vfWySofqrAiuDu/2Uvg3HcvqHhDStQ8LXbnP2rwpq89gR/2zjYRn8UNef8A7UfxC%2BG37JGh6VcaHqvjmTXfEN61p4Y8H%2BFL77XNfyqhd2ENyWVYkXBd%2BAoYdcgV5snwk/4KdftWaMtx8WPifH8K/DDNmPwz4c1WOPW7%2BIjg3F9bxMkOQfuxjnJDKCAajDYfEYpOpmmGjSjGLlzKcKrkk7fu6ceSu23dL3IxumnUTTR4OYYjB1K3svq3tqq6JL3dL61Gkoaa25ua2qjsdn%2B0P8etO/Y5sx/b/wC2XHdX7KP7M8G6/oEOqanfMfuIi2him%2BY4Ad8Lk8sOteaah4Y/bn/bV1rwh43/AGj/ANm%2BDTPhtoV6NVX4fWmtRW19rtyoBt5byOdyEiQ5b7OzKckhgcgj1r4A/sx/Cf8AZTu21vwz%2ByRcf2xJk3Xiu31WPWdQnY/ebzbhllTd1KoFB9DXrcfx%2B%2BGsLiDX7%2B90WYnBi1vS57bH/AnTb%2BtVDinhXKouODrTpVGrc9dTpuN9P3cKseSL3XM6k5drPU4Vk2IxaaxVZ04O37uMpSjo01zSqJ82y91Wg%2BtzH/4ac0LSOPH3wv8AG/hxV4knvvDUlxAp/wCutr5q4/Ktbw5%2B0j8BPFbiHRfi5oLTE4FvcagkEufTy5SrfpXSaL4y8I%2BJAD4e8U6dfZ6fY71JP/QSaZ4j8CeCPGEZi8W%2BDtK1RSMFdR0%2BOcY/4GprOjPEVqanQrQqRfWyt/4FCTR7ip5pBe5VhNf3otfjCX6Gja3drewLdWVzHNE4yskThlP0I61leKfh18PvHEZh8a%2BBNG1hCMFdU0uK4BHpiRTXI3X7JXwBedrzSfAp0edjkT6BqVxYMp9QIJFH5io/%2BGedd0r954P/AGiPHtgy/cjvdTh1CIf8BuYnY/8AfVa%2B1x0fipJ/4ZL8pJfmTUnjpQ5a2HjNeU4tfdOKKOpfsMfsoX921/afBqw0q4b/AJb%2BHrmfTWH0NrJHioP%2BGPrHTP8AkS/2iPitoar/AKqCDxm93EnsEvEmGPatX/hCP2odG%2BfSPjroOr46Ra74P8vP1e2nT9FFH9tftbaR8974D8C60o7adr11Zu34SwOB/wB9Gj6418dKa%2BV//SZP8jy3gMmTvLASg%2B8YW/GjUj%2BRlf8ACkv2o9J%2BXw3%2B2bdTxr9yLxF4FsLrj0LweQx%2BuaP7M/bz0j93beLPhTraL0e80fUbCRvqY5plH4LWr/wuD416d83iD9lvWNg%2B8%2Bj%2BIrC7/JWkjY/lS/8ADStvbf8AIa%2BB3xHsQPvM/hRp1X8bd5BR/aGFXxNr1jJf%2B2i9llMPhr1qf/b9Zf8ApcJoyf8AhPv22NF%2BXVP2dPBms46vovxAkgz9BcWY/Uij/hfn7RWn/Nr/AOxP4iCDq%2Bk%2BLNKuvyBmjY/kK1v%2BGt/gbB8ur65qumv3TU/DF/Bj6loMfrVmx/au/Zu1A7YfjT4fQ%2BlzfrDj6%2BZjFNZhgG7e1j/4El%2BbQ1PDXtTzNrylKi//AEqEWYH/AA1lq9r8usfsm/Fy2I%2B8YvDdtcr%2BBguXJ/Kl/wCGzvBNv/yGvhB8U9OHc3nw21HA/FI2B/Cu3sfjd8GNTwdO%2BLvhi4z08nX7dv5PWtaeM/B9/g2PivTZs9PKvo2z%2BRreNehP4Zp%2BjT/JnVCGPn/Dx8Zf9w6T/wDSaiPMv%2BG6f2dYeNT1bxLYt3W88A6wmPx%2BykUf8N6fsoL/AK/4ptD/ANfOgX8X/ocAr12KeGdd8EyuPVGBp1am3sM96Yim/wDuE/0qnj//AA31%2Bx8Pv/HXSk/66wzr/OMUo/b5/Y4P/NwWgfjK4/8AZa9fpCqnqAfrQHsc/wD%2Bf1L/AMFz/wDlp5Cf2%2Bv2OB0/aB0E%2ByySH%2BS0f8N8fshH/V/G7TpP%2BuVpcP8A%2BgxmvXwAOgooD2Of/wDP6l/4Ln/8tPIP%2BG8/2Vm/1HxIup/%2BvbwxqUv/AKBbmj/huT4DT/8AIIXxfqB7Cy%2BHurtn/vq2Fev1FcX1laDN1eRRD1kkC/zobS3B0M9triaa9KT/AFqnN/Cz4taN8W9OutU0Twx4j02K1mEZHiPw9cae0uRndGs6qXX3HGeK4j45WV74X%2BJXhr4h6RqUkMQ1u0g1jy/E10Z5FkbyVgisCTbsrbwXYbX%2BUkAnmvSbz4geA9Pz9v8AG2kQY6%2BdqUS4/Nq5PV/iH%2BypB4lj8aa3418Af21AgSHVJ9QsjdoozhVkJ3gDJ4B7n1rGWIw8Piml6tL9TPGxjVwUaVWvDnTT5m1DZ3ukpP0tez1u1c80/aEvvDx8caxrup3NtLrMmk6c/wANbqJ1aWWeO6/fwWb9TM7EK6odzI5ByoOIJvCd5qXjy98Dafot1beLJ/EOutd6mLKRQ%2Bm3do5SUz42mPeY0Rd2VaMAABcj0x/2r/2ZdLVbO1%2BLGisEGEh08tNgewiU/pSf8NYfCO6%2BXQIvEurt2XTPB2oSZ%2BhMIB/OsXmOA/5%2Bx%2BTT/K541XC5TVxEqk8XDV3aVm9d9U2%2BbpGVrqOmpjfAbT/Ed34%2Bg1u48KanpEOm%2BArHRdZj1DTZLZJdQglb/U7lAmRV3jzEypDJg%2BnVfFP4UeNviLq1tNonx88TeFNPitvLuLDw7b2Yad9xPmedNBI6nBAwOOM4zms7/hovULz5dC/Z5%2BI12x%2B6ZtCjtVP1NxMhH5Un/C0f2hNQ/wCQP%2BzDJArfdk1nxhaQ49ysIlP4Uvr%2BGfwtv0jJ/wDtqPRo/wBmRwX1aUp1E3d8saivt/Io2WiulKz1b3ssr/hi3wDqny%2BPPil8SfE6H70Os%2BPr1Yj/AMAtmiUfgBWj4e/Yt/ZS8MT/AGvT/gJ4bnnzn7RqlgL2TPrvuN7Z985qT7R%2B17qnzRab8PNGRugmub2%2BkX8FWFSfxo/4Vr%2B0Zqvza5%2B0lDZK334dA8IW8eB6B7h5T%2BOBR9bnL4KM38lH/wBKl%2BhEMDlKlzU8vcn3lCN/vqzmzv8ARPDvh/w1aCw8OaFZ6fAOkNlapEg/BQBVvcu7ZuG4jIGecV5r/wAM02Wo/wDI3/GX4gayrf6yGbxM9tE/tstViGK3/h/8DfhX8LtSm1rwP4SS0vbmDybi9kuZZ5pI9wba0krsxGQD17VcKmLnNc1NRXnK7%2B5K34nsUKmNclH2MYQ/xptLyUY2/FFL41%2BIPiB4R0qPxN4QvGkhtyPO0%2BHRDcmQjLM0sgfMUQQHJVC2cYJyFqD4o%2BH9f8V3GieK/Dd/a3Wl21vNJeWlz4jubC2mVgjRykwAiXBXgPhcMeaufFaXTdT1DSPB2o32rxQ6lO0d2NLvBCDE2IwJTgsVZmC4Ug5PXFZnjrTtHs2udIg8G6Pe6ZomnQ6jc2GrWRuA6rujAi3tti2pGxztOSMYGc142OzHC0nX5pNqLimldtSs57duVNy30TVm9DDEYerVqVU37r5bavSS10snZd117HG32sWuv6zH45Tw5dxaz4gOian4Vkezd5U3L5U1t5gHyrGu5pFJAIkLYO6ul8DeCfF%2BkeLfD2h3OgXUNv4Vl1NDrLSxmC8sp2PkRKA28v8A6ktlcAwnk7hWlH4h8UpfzXtjrRET6vJpVvpvkRrFADEGgdQF3bhkM2SQQTgACnfCvUF/tSxt9M1CaaHUPDqXmpQT3bzPb3gZFbcXJKltzgjgZiPFebhs0w1THwpcsrylv7qv7zs7K97yi29VKEbXTV7Y0ctjGqpym27p6JK%2Bt9d95K990rLY6jxN8PfAnjW8s9Q8YeDtM1WbTt5sX1GySbyC%2B3cV3g4J2rz7CtSGG00%2B1EMEUcEMS4VEUKqKPYcAVi%2BMNC8Q%2BIp7ey0D4gz6KqKxu47O1hklmBxtIaQHy8c8gHOR0xzkJ8BfA924m8W3WreIZAchtc1WWZR/2zBWP/x2vbr4rMViZwweFUujnKpCMW7LpFTqO22qj91met7NQqOUYJN7vRX9dLv5nF/tMXFvd/Gj9m%2B5tZ0ljf4y3xSSNgysP%2BEK8UdCOte014l%2B0dpmm6N8YP2bdL0iwhtbaD4yXyw29vEERB/whXijgKOBXttevT9p7Ne0tzWV7Xtfra%2Btr7X17myuFFFFWAUUUUAFFFFABRRRQBzHhz42/Bjxj8QdZ%2BEnhH4u%2BGNV8V%2BHEV/EPhnTdftp9Q0tWxta4tkcyQA7lwXUZyPWi1%2BNvwZvvinc/Auy%2BLnhibxvZ2AvbzwdFr9u2qwWpCkTvaB/OWMh0%2Bcrt%2BZeeRXxx%2Bzx4e8Z%2BC/jV4D0PxB8IPGunal8MfE/xJv/AB/4mPgfUWtdSttY1iSS0FrcpAV1I3rz2t6yW5lMItG88RPGFq74O%2BH/AMQYv2pPD3w3l%2BFHiiHXtB/ad8SePda8Zy%2BGrpNKm8O3mhanb20iamY/s08hW9sNP%2ByrIZk%2BzMxjEcKvQB73%2B3h/yRDQ/wDss3w4/wDU10SqHx4/bR/Z9/Zp8cnwdeav4h8T%2BNdRi32vgDwjbS6lfSlsEN5KnZCTxjeykqcgEVL%2B2z8H/wBp/wCMPhTRdM%2BAHirwEtvpPjDw3ruoeHPGGm3sL6q2l69Y6mY49UtpZBYhktCuTY3W5iB8gbcvhv7A3h79rnwf4N8WfETwh%2BzJ8KtW17X/AIjeJrbxN4p8QfGzUI9Qv7mw1q80%2BRSYvDDAQCS1cxqCAQ28pGzlF1pYPJq8418dBzlSalTim4vmd03zJ6JLdWk5XSS0uuPFzzPSlhGoqV%2BaTV7JWtaOl23tdpK13fRHa/s3fAb4xeNPEOvftf8A7RnhN4PG/ii6ntPDvhzVJi7%2BF9DMgWC2QJlY5Cu55DjJ3AsA24V9EeM5dNn0%2B2ae%2Bs0%2Bz7phZXRI8/apXavKnIPQ4PIHHNeff8Jx/wAFC/8Ao1/4M/8Ah%2BNW/wDmXpH8af8ABQeQASfst/BdgDkbvjvqxwf/AAlq%2BXz3IFnGJxuIjOzxMYR5ZXlCCg7xULWkoqyfK3KLad1ac79uWqGXYanRWvK23LTmk5fE5dLvv0VktIq3f3Go3xmaWyuprdbR7WGCz3Ah2cBmV85JO1gOvGM1Z07Xr/UL62N0IXs9RacQQeUdyomcOWJwQwHTH8Qry%2BTxB%2B3vLqK6tJ%2Byj8FjcoMLKfjvq2RwR/0K/XBPPvUGm6r%2B35pd0buH9mP4PuQrLCknx71YrCrHJVB/wi3AJA9egFePRyPiLD4%2BMo1703O7tJpcqas3FprWF6fs4Wgnyyd7K3fKvhpU2nHW3b9fXW713R6nrXwg%2BFviFjJq/wAP9Jlc9ZlskST/AL6UBv1rN/4UT4Wsv%2BRZ8ReI9GHZNN8QT7P%2B%2BJGdfwxXjE3xy/bs8ZfGXW/gdbfs0fDOx1Xwx4Y0nXbq8tfj9qkcEsGpXGpW8KKf%2BEYJZ1bSpywZQAJI8FiWC9fpniz/AIKIWFjHZz/s3fB%2B6ZAczz/HjVd78k848LAe3TtXqzyXLsTmU41cugo2uqqcE5PS6agqdSL31cmnbzRwSo0HBSur9rNfjsdx/wAK%2B%2BKGncaH8b7t0H3Y9X0a3uPzZBG360bf2hdP4EnhDU1Xuy3No7fl5gzXHf8ACcf8FC/%2BjX/gz/4fjVv/AJl6P%2BE4/wCChf8A0a/8Gf8Aw/Grf/MvXR/q9hofwK1an/hrTa%2B6ftEZezXRv7/%2BHOx/4Tj4vWX/ACEvgkZgPvPpniGCTPuFlEZo/wCFyyW3Gr/CfxjakfeZdHE6j8YXeuO/4Tj/AIKF/wDRr/wZ/wDD8at/8y9cvq37R37duj/GfQPgdcfsofCRtU8ReF9X12zuU%2BOuqeRHBp1zptvMjk%2BGNwdm1SAqApBCSZKkKGP7Lzan/Cx8/wDt%2BnRn%2BSpsOWfSX5HrX/DQXwui%2BXU9WvbBu66ho11Dj6lo8frW14U%2BIngbxy0qeEPFNnqDQqGmS2mDMgPQkdRXmf8AwnH/AAUL/wCjX/gz/wCH41b/AOZemJ4v/wCCgUUrTx/sr/BZXcfM6/HXVQT9T/wi1b4ajntOuvb16c4dbU5Rl8mqko/ehpVE9Wvu/wCCeh%2BPfG2peHZILHw/p8d1cGaA3fmhtkMMkojBOP4mJIUe3PFQfEHXIbW4awt/ClhqckFhJe3ov8BUgTIwvyNlzg4BwOOSK8n8XaX%2B2x41mivNb/ZD%2BCD3Mc0T/a/%2BF4ap5rLG4YIWPhbO04wR6E4qDxLB/wAFF/EBEkXwD%2BDdvJNYyWN/Ivxt1RjPbOc7V/4pgBGAJAbnG48GvOxtLiLmxLpu6k48nK1dJKV1aasm3yNtuSa5rWsk4nGck09V/Xc7%2B80v4T61q0cVx8D/AA9dWDXFvb3N7dabbl0lmQMgCGMhlG5Qx3AgngHk1S0f4U/s4eLdUis5v2e/DdvBfRSy6Xdro9sou0jYByFRQU%2B8Dz1BryT4vfEn9vL4L2Fp441v9mv4RS6LfeN/Dun/ANmWXxr1Rpvtt/qFnpNs3mN4bVRCs1zDLINpbCOVzwh6nwva/wDBQ7w9d6bLP%2Bzv8F7iHR7Ca006Jfjdq6MqSMhJdv8AhGTuYCNRkBe578ctLC55LFR9tTi4c2t40rWvZ20uocusftc%2Bj0OWWBwtR%2B/Sg/WMP/kT0SX9kL9mmVt//CndIQ%2BsMbR/%2BgsKb/wyD%2BzsP9V8PPL/AOuOrXaf%2BgyiuL8XXf8AwUQ8WRQRw/Az4Y6SYGY79I/aB1SMyZxw27wo2QMcfU1h/wDCOf8ABSaP/UeC/BA/66ftAXrfz8H16GKpTo13Gll0akf5lKjG/wD27JJq225Espyy%2BmGh/wCAxX6I9Q/4ZF%2BAQ%2B54U1BP%2BufijUV/lcUf8MjfAnt4f1gfTxhqn/yTXl/9jf8ABTpf9X4Q%2BHo/3vjndt/7qFcv8bfiF/wUm%2BA/wY8XfHHxT4E8B3Wl%2BDPDF/rupWth8abhria3tLaS4kSMP4TVS5WMhQzKMkZIHNc/NX/6FT/8Dof/ACSJ/srLf%2BgaP3RPeP8Ahkb4Ed/Durn6%2BL9UP/tzR/wyJ8AOj%2BD71/8Arp4l1Bv5z15f/ZX/AAVDP3vCfw5/D423Q/8AdRo/sT/gps3%2Bt8H/AA/P%2B58dbtf/AHUKOau9sqf/AIHQ/wDkmH9lZb/0DR%2B6J6h/wyB%2Bzk3%2Bt%2BGkMv8A131C5k/9ClNS2/7JH7NNqcx/BjQ2P/TW13/%2BhE15V/wjP/BSF%2BZ/BHgpvZP2hb5P5eEKP%2BER/wCChb/6/wCGvg1/%2B7ldWT/0DwoKF9c6ZVH51KH/AMgxrKstW2Fh/wCAw/8AkWezWf7OX7P1hg23wR8KAjozeH7dj%2BZQmtex%2BGHw00vH9mfDzQrfHTyNIhTH5LXgX/CDft1yf8fvwQ8C3PqJ/wBqDxB/TwyK5f4I3v7Tfx7%2BDHhD45aD%2Bx38NBpvjPwvp%2Bu6db6z%2B0nr7TxW93bR3EaSqvh5kDhZAGClhkHBI5raMs5X8PAUo%2BtWP/tlBm8MJh6fwUYL0UV%2BUD66RNK0eHai29rGOwCov9KoXvxA8B6bn%2B0fG2kW%2BOvn6lEmPzavn%2BD4bftRwP5g/Ya%2BBEjetx8dNXlP/j/hg1p2Wjftf6dg2H7Dn7PsJHeP4x6gD%2Bf/AAitbKfE8tqdCHrOrL8oQOle0Sskl956tefHr4NWTbJPiRpUh7C3uRKT9Nmc1Afj54AuONGi1rUm7Lp/h67kz9D5YB/OuHs/E37fOnrtsP2T/glAPSH456qv8vC1T/8ACcf8FC/%2BjX/gz/4fjVv/AJl6Pq/EtT4sRSj/AIaUpfjOqvxQWq9193/BOx/4W5rV58mifBnxZOx6G6tYbVT%2BMsoI/Kj/AISz426h8mn/AAjsLLPSTVPEanH1WGN/515N4B/aO/bt%2BInivxv4Q0f9lD4SQ3HgPxRFoWqyXPx11QJPPJpWn6mHi2%2BGCSnk6jCpLBTvRxjADN1H/Ccf8FC/%2BjX/AIM/%2BH41b/5l6P7KzOp/Fx9T/tyFKH/tk3%2BIcknvL8jsf7P/AGgdS%2BS68S%2BFtKU97PTZ7px%2BMkiA/lWv4R8NeMNGu5bvxT8RLjWfMj2pA2nQ28cRzncAg3E9uWNeb/8ACcf8FC/%2BjX/gz/4fjVv/AJl6P%2BE4/wCChf8A0a/8Gf8Aw/Grf/MvW%2BHyXD0K0a0qtWcltz1Ztf8AgK5YP5xY1BJ3u/vO98b/AAxj8X3b6lD4l1GznYW%2BEguNsX7mQuhIUBsgs2MMME5qL4geEv7R097o38/2yaN7RUtdqC5gYkmCQMHyoXcSww33iCMmvPr3xT/wURu7m3nj/Zy%2BEECwOWeKH48aptm9mz4VJx9Mda5YfHT9tvxl8Y9c%2BBNz%2ByT8JW1Lw14a0jX7m5f486stu8Go3Gp20KIV8M7i6tpk5cFQuJI8FiWC%2BbmeSLF4XGQw9FQqVLJSc9JO3xJLm5XHmkleOr1s4tp7U4UI1Iynquq1/wA1%2BFj2vVfClhetp3jDQtKmW7ZoXkNq67ihj2htsh8suFIUORuC8A1Bc/2SbqTUrV2snNlLIZBiN3uYZMOZNmBI3bnIx06155p%2Bpft%2B6dpSaNb/ALM3wgWBE2qsXx91eMjknIKeFgQecdanj139vSK0Sx/4ZO%2BCjxRvvRZfjtqz4bOd2W8Lkk579a8SvwvmeOXO%2BSnKcYOau3H2sYpNx5OWUU25SlJNOTjDTRnZTr4ai/dV7N20Sdn3vfW2npc9BiEg1VGktimoy6pFPG4iOXt2Rd4LY%2B6o3jBPVRXTapZ3V/YPaWmpy2kjYxcQqpZRnnG4Ecjj8a8i/wCE4/4KFDp%2By98Gf/D8at/8y9H/AAnH/BQv/o1/4M/%2BH41b/wCZevosq4ep5dh69GdRzjV3teD2ldtxknzvmd5pxbtHrG7xq4l1JRkla3z/AD6aba9SH9pG0ax%2BMX7Nto93NcGP4yXwM07Au/8AxRXijkkADP4V7ZXyv8T/ABL%2B1bq/7Sf7Olr8a/gv8PfD%2Bjj4uai0d94W%2BJ19rFyZ/wDhC/E21DBPotkoQgsS/mkggDYckr9UV71KlCjSjTgrKKSW70SstW236tt923qc7bk7sKKKK0EFFFFABRRRQAUUUUAFUfFHiGw8JeGtR8V6qHNrpljNd3IiXLeXGhdsDucKavVHd2lrf2stje26TQzRtHNFKoZXUjBUg8EEcYoA%2Bb/2Nf2pfj58VPGGjeFfj/pvhJH8b/CfTviB4XXwnp9zb/2Xb3EoSfTLpp7iYXUkImtNt3GIFlLy/uItg3eV2H/BR74y/Dr4YH40%2BJfh/wCDLrw347%2BF/ivx18M9A0LTrixubKWxvbQW9pqVw88qXL3i6nDPJPFDB5LpMpSbcr17z8AP2F/CH7Omq2%2Br%2BE/jL461OXTtF07QNDGv3OnXA0rw/ZPK8GjQlbJCbfMvzzSF7yQRRb7lvLXGNpP/AATO%2BA1taeIPD3iTxV4t1/w9q3hLXPDGh%2BGNW1G2W08LaTq9wlxf2unNb28U6B5Ibco88s8kK20SRPGq7SAdN%2BzJ8XPjH4j8feP/AIF/H%2B78M6h4m8C3WmTLrnhDR7jTrHULG/tPNib7NcXNy8MqSxXMTDznDLHHINm8xp7FXnfwA/Zz0r4DHxDrFx8SPE3jTxF4r1GG78QeLPGElmb678i2jtoIttlbW1vHFHFGAqxxLlnkdtzyOzeiUAFfLvwG/bG%2BNvxA%2BMXhaTxtpnhZfAfxM1rxdpngqz0vTbmLVdLk0W7lihkvLh7l4rpbu3trmYrHDAbdvLjzPkyD6irwzwd%2BwZ4G8BfEmb4jeF/i743gFtdazdeFNCefTpbDwtPq16t5qUtij2RdmnlDj/SXnEKTSxwCFXxQBT1z4qfHH4eftqeEfhnrWo%2BAdd0r4iNqaLpGh%2BF7q213QdHsLWaeLUbu9e8ljurcXTxWpQW8AWbVI9jNh92R/wAE4f2p/i7%2B0f4F879ovxPoll47/wCEZ0jVdZ%2BHlv8ACfW/Cl94ca6jlMiyLq93M%2BowGVHijuoEjiLW0vLk4TrfA37Gn/CA/tKeLP2l9O/aU%2BIV3e%2BNJ1Os%2BHtSi0OaxW3it3htbKGX%2BzBewWtuZHmjhS5C%2Bc8kj7zLL5mx8G/2X7b4W/EXVPi/4t%2BNPjL4g%2BKdS0S30ZNb8ZHTY3s9PhlkmFvDFptlaQKGllZ3do2kYhAX2oqgA9RooooA%2BXf2mv2xvjb8K/in4xf4eaZ4Wbwb8JtF8N6n47ttZ025m1HWI9UvriKaOxmjuY47Rra1t/PDSRXAnklEWIQpkM37ZH7SvxM%2BBX7Qvg6zttX8PeEvA0nhHUrzxL8RfEfwi1nxFbabIt7YItpLe2F3bwaRDJG0srz3beV/oyk8JXbfGf8AYh%2BHHxu%2BKR%2BJmueOfFWlxaja6Ra%2BL/DWjXVqmneKYNLvZL2xivllt5Jgsc00ufs8sBljkMUxljCoJ/jp%2ByTdftCeCZfhj48/aW%2BIcXhjVNHuNJ8XaDpi6LDF4kspy4mhuZf7NM8IaJ2gLWklu3lnrv8AnoA881L9sb422v7QF3LBpnhb/hWOn/Gaz%2BGlzYPptydblvLjTYJxqa3X2nyFiW8uYrb7KbcsY1efzwcQ19RV4vcfsO/DWf49/wDC8B428Ux2j%2BKYfFE/gOO5tBoc2vRacunRamyfZvtPmrbJGBELgW/mRJMYTKPMr2igAr56/a8/aJ/aA8B/ECD4Xfs4WvhFdT0/4a67431m48Zabc3UN1BYSWsUOmwi3uIDBJcPcSZumMqwCEfuJjJhfoWvI/2l/wBjzwf%2B0zqFlrWo/Enxf4R1C38P6n4fvtR8G3lrDNqWi6h5BvNPmNzbThY5GtoWEsQjuIihMU0e99wBzX7Tnx38ZQfsV/8ADXXwv8WeE9D0bTfBY8ZXln418B3GvNdQpape20EEVvqVkY7nzAgQ5kJk2BVDYNcNe/tY/tW/D746%2BA/hp%2B0Nrng/wRpF38PvCF54t13/AIVDr2o6XqPiXUL29ttR0q31aK/Wz0gK0FokH2wzMXvY/wDW8IfcfHn7MPgv4j/DSy%2BD/ifxJrLeHNO8UaTq9ppVqLSGNYdNvLe7tdMIS3G6yElrEGRsyOgKNIVYiqnx0/Zag/aC1y2Txt8b/Gtv4SWaxm1P4e6YdMj0rVZLW5W5jM8rWTXwDSJHvSK6jR1jClcM4cA9UooooA8X/wCCgvxd%2BOH7P37I/jT49fAK98KR6x4J0K71y6g8YaLc31td2lrbSzPboltdWzJK7IiiQuVQFiUfgVd/bB%2BJ/i7wJ4O8NeBfh7pmg3GvfEfxla%2BFNNl8VabJe6ZarPDPcXM1zbRywtcotpa3OIRLH5jlFLqCSNT9rH9nGy/a0%2BBGvfs%2B618VfFPhHSfE9lLY65f%2BEF077Xc2UsTxTW26/tLqNEdX5ZEWQFRtdec53jf9laT4lfDqz8EePP2gvHWo6npOp6dqmgeMTFo8Gp6TqVmSVvIRBpyWzPIGdZElgkhZJHTywrFSAeCSft3ftW%2BMtD/4Qz4Z6N4AtvG3hPQvHWpeOLnWdIvZtN1J/DmsDSo7ayjju0ktBfNunE0klx9kUBDHck7h9bfC/wAe6Z8VPhp4d%2BJ%2BiW0sNl4k0K01S0hnxvSK4hSVFbHcBwD714h4h/4JpfCfWPAuk%2BD9G%2BLnxA0G8s9N8Q6drvifRdSsV1LxJaa7dre6xFevLZvGDc3SibzLaOCWBsi3eBSVP0FoeiaR4Z0Sz8N%2BH9PitLDT7WO2srSBdqQwxqFRFHYBQAB6CgC1XNfGKT4mw/DLWJ/g5rWg6d4litd%2BmXvibSpr6xiKsC5lggnt5JR5YfCrLH8xXLYzXS1hfEzwdqnxB8B6n4L0b4g6z4VuNRt/JTxB4fhs5LyzBILNEt7b3FuSQCp8yFxhjgA4IAOC%2BAnxR%2BMH7Q37Efw/%2BNfh%2B58NaP418cfDjRNcaW80q4uNLs7y8soLiU/ZluEmkiUyPtj89WICgydWrwC9/bM/ai0H4OaevgPSPCt1Bo/xzu/AmoePPB3wa13X9Hk0Kz0S6uX1G00TTb1rqNYtRhTSXIuZYklglbO0qF9i8JfsNT%2BDP2S0/Y80n9rf4rroNr4ITwrpWvwz6JbaxptjGiRRPBcW2lxqsyQIIVlKE7SXOZcSjR8H/sjeJvh78ENJ%2BBvgH9rz4jaJa6FcIuk6vpeieFYbi1sEt1gj01IV0T7Gtsm0OpFv5wY483ZhAAehfB3xvpvxK%2BE/hr4gaR440jxNb6zodrdp4h8P2jW9jqReJWNxBE8srQxuSWWNpJGQEKzsQSekrl/gr8IfBvwD%2BFOg/Bz4fxXK6R4e09LSza%2BuWmnlAyWllkbl5HYs7N3ZicDpXUUAFeL/ALHPxd%2BOHxKuvil4O%2BP174Uu9Z%2BH/wATG8PW194P0W5sLW4tW0bStSQtFc3Vy5kVtQeMuHCuI1YImSK9orxf4E/seax8CfGni/xraftZfErxHJ448Vw%2BINesfENp4dED3aWtvZkJ9k0iB0je3tLaJgHziEMpV2dmAPDPBH7f/wAVfBvw3%2BMXxE%2BL0Hhq28XeGtL8Qaxonwwb4Ua14Zvr%2BOyv30%2ByvG1K/upItWt5I109ZLm1h2RfaYuQNiH3n9mT4ufGPxH4%2B8f/AAL%2BP934Z1DxN4FutMmXXPCGj3GnWOoWN/aebE32a4ubl4ZUliuYmHnOGWOOQbN5jTM1z9gjwN8RNV8Qar8evjB45%2BIZ1zwTq/hK0g8ST6dbJouk6nJA97Daf2bZWp8xzaWmJ5jLMn2ZNrqS5bsfgB%2BznpXwGPiHWLj4keJvGniLxXqMN34g8WeMJLM3135FtHbQRbbK2treOKOKMBVjiXLPI7bnkdmAPRKKKKAPF/gr8XfjhrX7XHxZ%2BAvxUvfCl1o/hjQvD2ueEJ/D%2Bi3NrcxWmpXOsw/Z7x5rqZbiVF0yJvMjSBcyuNhwDXP%2BJPiJ%2B0t4V/b88F/CDTPFXw51Xw54u0jWNY8Q2cHw%2BvLfWdL0HTkSK336j/arxSyHUNRt1VWtFVka6KqpUmug0X9jzWNA/aL8YftJad%2B1l8ShqHjPSrLTL3QntPDp0%2BztLOe6mtIoB/ZHnjyje3ShpJpGZZjvLlUK9ppfwL8K6X8cPEv7QKatqc2v%2BJPDGm6A3nzRmHTrKylu5kW2URgozy3sryMxfeUiHAjUAA8d/wCCcP7U/wAXf2j/AAL537RfifRLLx3/AMIzpGq6z8PLf4T634UvvDjXUcpkWRdXu5n1GAyo8Ud1AkcRa2l5cnCfS1eXfBv9l%2B2%2BFvxF1T4v%2BLfjT4y%2BIPinUtEt9GTW/GR02N7PT4ZZJhbwxabZWkChpZWd3aNpGIQF9qKo9RoAK8H/AGtfjN%2B0F8BvEnhfxd4M8QeCL3w9rXi7QvDtt4FvvDl5JrmuXN7fLDctaXsd6sUJgtWkutjWkw8u0mZ3jQF4/eK8Z%2BJP7HK/ET9p3RP2prf9o74gaFqvh/QxpWmaBpkOiXGlwQPN5ty0aX2mXE0MtyBHHNLFKjtHDGisgHIBwv7bH7UPxm%2BFvjLxBZ/Brw54Ouk%2BE/wpuviV4mHizSp7mbUYVa6hi0%2BwkiuIRYzyw2uoKbtxOqbo18l1dyKsf7bPxi1D41nXtK07wufhXF8XrD4dPYy6Xc/25Lc3emW9wuqLc/afJSJby6itjam3LGNXm88HENdx8dP2EfBX7QbRTeNvjB44tprvwvd%2BGPF8%2BkXGnQN4r0K5mEsmmXw%2BxFVi%2B%2BiyWwt50SaULKPMcm1P%2Bw58NJvj1/wu9fGviiK0bxTD4on8BRXNoNDm16HTl06LU2T7N9pEq2yRgRC4Fv5kSTGEyjzKAPaKKKKACiiigAooooAKKKKACiiigAooooAKKKKACiiigAooooAKKKKACiiigAooooAKKKKACiiigAooooAKKKKACiiigAooooAKKKKACiiigAooooAKKKKACiiigAooooAKKKKACiiigAooooAKKKKACiiigD//2Q%3D%3D\">"
      ]
     },
     "metadata": {},
     "output_type": "display_data"
    }
   ],
   "source": [
    "try:\n",
    "    HTML(anim.to_html5_video())\n",
    "# In case the build-in renderers are unaviable, fall back to\n",
    "# a custom one, that doesn't require external libraries\n",
    "except RuntimeError:\n",
    "    anim.save(None, writer=matplotlib_utils.SimpleMovieWriter(0.001))"
   ]
  },
  {
   "cell_type": "markdown",
   "metadata": {},
   "source": [
    "# Logistic regression\n",
    "Your assignment is to implement the logistic regression\n",
    "\n",
    "Plan:\n",
    "* Use a shared variable for weights\n",
    "* Use a matrix placeholder for `X`\n",
    " \n",
    "We shall train on a two-class MNIST dataset\n",
    "* please note that target `y` are `{0,1}` and not `{-1,1}` as in some formulae"
   ]
  },
  {
   "cell_type": "code",
   "execution_count": 29,
   "metadata": {},
   "outputs": [
    {
     "name": "stdout",
     "output_type": "stream",
     "text": [
      "y [shape - (360,)]: [0 1 0 1 0 1 0 0 1 1]\n",
      "X [shape - (360, 64)]:\n"
     ]
    }
   ],
   "source": [
    "from sklearn.datasets import load_digits\n",
    "mnist = load_digits(2)\n",
    "\n",
    "X, y = mnist.data, mnist.target\n",
    "\n",
    "print(\"y [shape - %s]:\" % (str(y.shape)), y[:10])\n",
    "print(\"X [shape - %s]:\" % (str(X.shape)))"
   ]
  },
  {
   "cell_type": "code",
   "execution_count": 30,
   "metadata": {},
   "outputs": [
    {
     "name": "stdout",
     "output_type": "stream",
     "text": [
      "X:\n",
      " [[  0.   0.   5.  13.   9.   1.   0.   0.   0.   0.]\n",
      " [  0.   0.   0.  12.  13.   5.   0.   0.   0.   0.]\n",
      " [  0.   0.   1.   9.  15.  11.   0.   0.   0.   0.]]\n",
      "y:\n",
      " [0 1 0 1 0 1 0 0 1 1]\n"
     ]
    },
    {
     "data": {
      "image/png": "[encoded data removed]",
      "text/plain": [
       "<matplotlib.figure.Figure at 0x7f8831848240>"
      ]
     },
     "metadata": {},
     "output_type": "display_data"
    }
   ],
   "source": [
    "print('X:\\n',X[:3,:10])\n",
    "print('y:\\n',y[:10])\n",
    "plt.imshow(X[0].reshape([8,8]));"
   ]
  },
  {
   "cell_type": "markdown",
   "metadata": {},
   "source": [
    "It's your turn now!\n",
    "Just a small reminder of the relevant math:\n",
    "\n",
    "$$\n",
    "P(y=1|X) = \\sigma(X \\cdot W + b)\n",
    "$$\n",
    "$$\n",
    "\\text{loss} = -\\log\\left(P\\left(y_\\text{predicted} = 1\\right)\\right)\\cdot y_\\text{true} - \\log\\left(1 - P\\left(y_\\text{predicted} = 1\\right)\\right)\\cdot\\left(1 - y_\\text{true}\\right)\n",
    "$$\n",
    "\n",
    "$\\sigma(x)$ is available via `tf.nn.sigmoid` and matrix multiplication via `tf.matmul`"
   ]
  },
  {
   "cell_type": "code",
   "execution_count": 31,
   "metadata": {
    "collapsed": true
   },
   "outputs": [],
   "source": [
    "from sklearn.model_selection import train_test_split\n",
    "X_train, X_test, y_train, y_test = train_test_split(\n",
    "    X, y, random_state=42)"
   ]
  },
  {
   "cell_type": "code",
   "execution_count": 34,
   "metadata": {},
   "outputs": [
    {
     "data": {
      "text/plain": [
       "(270, 64)"
      ]
     },
     "execution_count": 34,
     "metadata": {},
     "output_type": "execute_result"
    }
   ],
   "source": [
    "X_train.shape"
   ]
  },
  {
   "cell_type": "markdown",
   "metadata": {},
   "source": [
    "__Your code goes here.__ For the training and testing scaffolding to work, please stick to the names in comments."
   ]
  },
  {
   "cell_type": "code",
   "execution_count": 68,
   "metadata": {
    "collapsed": true
   },
   "outputs": [],
   "source": [
    "# Model parameters - weights and bias\n",
    "weights = tf.Variable(tf.random_normal(shape=(X.shape[1],1), stddev=0.01, dtype=tf.float32))\n",
    "b = tf.Variable(0.0, dtype=tf.float32)"
   ]
  },
  {
   "cell_type": "code",
   "execution_count": 69,
   "metadata": {
    "collapsed": true
   },
   "outputs": [],
   "source": [
    "# Placeholders for the input data\n",
    "input_X = tf.placeholder(tf.float32, shape=(None, X.shape[1]))\n",
    "input_y = tf.placeholder(tf.float32, shape=(None,))\n"
   ]
  },
  {
   "cell_type": "code",
   "execution_count": 70,
   "metadata": {},
   "outputs": [],
   "source": [
    "# The model code\n",
    "\n",
    "# Compute a vector of predictions, resulting shape should be [input_X.shape[0],]\n",
    "# This is 1D, if you have extra dimensions, you can  get rid of them with tf.squeeze .\n",
    "# Don't forget the sigmoid.\n",
    "# predicted_y = <predicted probabilities for input_X>\n",
    "predicted_y = tf.squeeze(tf.nn.sigmoid(tf.matmul(input_X, weights) + b))\n",
    "# Loss. Should be a scalar number - average loss over all the objects\n",
    "# tf.reduce_mean is your friend here\n",
    "# loss = <logistic loss (scalar, mean over sample)>\n",
    "loss = -tf.reduce_mean(input_y * tf.log(predicted_y) + (1-input_y) * tf.log(1-predicted_y))\n",
    "# See above for an example. tf.train.*Optimizer\n",
    "# optimizer = <optimizer that minimizes loss>\n",
    "optimizer = tf.train.MomentumOptimizer(0.01, 0.5).minimize(\n",
    "    loss)"
   ]
  },
  {
   "cell_type": "markdown",
   "metadata": {},
   "source": [
    "A test to help with the debugging"
   ]
  },
  {
   "cell_type": "code",
   "execution_count": 71,
   "metadata": {},
   "outputs": [],
   "source": [
    "validation_weights = 1e-3 * np.fromiter(map(lambda x:\n",
    "        s.run(weird_psychotic_function, {my_scalar:x, my_vector:[1, 0.1, 2]}),\n",
    "                                   0.15 * np.arange(1, X.shape[1] + 1)),\n",
    "                                   count=X.shape[1], dtype=np.float32)[:, np.newaxis]\n",
    "# Compute predictions for given weights and bias\n",
    "prediction_validation = s.run(\n",
    "    predicted_y, {\n",
    "    input_X: X,\n",
    "    weights: validation_weights,\n",
    "    b: 1e-1})\n",
    "\n",
    "# Load the reference values for the predictions\n",
    "validation_true_values = np.loadtxt(\"validation_predictons.txt\")\n",
    "\n",
    "assert prediction_validation.shape == (X.shape[0],),\\\n",
    "       \"Predictions must be a 1D array with length equal to the number \" \\\n",
    "       \"of examples in input_X\"\n",
    "assert np.allclose(validation_true_values, prediction_validation)\n",
    "loss_validation = s.run(\n",
    "        loss, {\n",
    "            input_X: X[:100],\n",
    "            input_y: y[-100:],\n",
    "            weights: validation_weights+1.21e-3,\n",
    "            b: -1e-1})\n",
    "assert np.allclose(loss_validation, 0.728689)"
   ]
  },
  {
   "cell_type": "code",
   "execution_count": 72,
   "metadata": {},
   "outputs": [
    {
     "name": "stdout",
     "output_type": "stream",
     "text": [
      "loss at iter 0:0.9237\n",
      "train auc: 0.997474747475\n",
      "test auc: 0.997529644269\n",
      "loss at iter 1:0.5293\n",
      "train auc: 1.0\n",
      "test auc: 1.0\n",
      "loss at iter 2:0.0493\n",
      "train auc: 1.0\n",
      "test auc: 1.0\n",
      "loss at iter 3:0.0106\n",
      "train auc: 1.0\n",
      "test auc: 1.0\n",
      "loss at iter 4:0.0072\n",
      "train auc: 1.0\n",
      "test auc: 1.0\n"
     ]
    }
   ],
   "source": [
    "from sklearn.metrics import roc_auc_score\n",
    "s.run(tf.global_variables_initializer())\n",
    "for i in range(5):\n",
    "    s.run(optimizer, {input_X: X_train, input_y: y_train})\n",
    "    loss_i = s.run(loss, {input_X: X_train, input_y: y_train})\n",
    "    print(\"loss at iter %i:%.4f\" % (i, loss_i))\n",
    "    print(\"train auc:\", roc_auc_score(y_train, s.run(predicted_y, {input_X:X_train})))\n",
    "    print(\"test auc:\", roc_auc_score(y_test, s.run(predicted_y, {input_X:X_test})))"
   ]
  },
  {
   "cell_type": "markdown",
   "metadata": {},
   "source": [
    "### Coursera submission"
   ]
  },
  {
   "cell_type": "code",
   "execution_count": 73,
   "metadata": {
    "collapsed": true
   },
   "outputs": [],
   "source": [
    "grade_submitter = grading.Grader(\"BJCiiY8sEeeCnhKCj4fcOA\")"
   ]
  },
  {
   "cell_type": "code",
   "execution_count": 74,
   "metadata": {
    "collapsed": true
   },
   "outputs": [],
   "source": [
    "test_weights = 1e-3 * np.fromiter(map(lambda x:\n",
    "    s.run(weird_psychotic_function, {my_scalar:x, my_vector:[1, 2, 3]}),\n",
    "                               0.1 * np.arange(1, X.shape[1] + 1)),\n",
    "                               count=X.shape[1], dtype=np.float32)[:, np.newaxis]"
   ]
  },
  {
   "cell_type": "markdown",
   "metadata": {},
   "source": [
    "First, test prediction and loss computation. This part doesn't require a fitted model."
   ]
  },
  {
   "cell_type": "code",
   "execution_count": 75,
   "metadata": {
    "collapsed": true
   },
   "outputs": [],
   "source": [
    "prediction_test = s.run(\n",
    "    predicted_y, {\n",
    "    input_X: X,\n",
    "    weights: test_weights,\n",
    "    b: 1e-1})"
   ]
  },
  {
   "cell_type": "code",
   "execution_count": 76,
   "metadata": {
    "collapsed": true
   },
   "outputs": [],
   "source": [
    "assert prediction_test.shape == (X.shape[0],),\\\n",
    "       \"Predictions must be a 1D array with length equal to the number \" \\\n",
    "       \"of examples in X_test\""
   ]
  },
  {
   "cell_type": "code",
   "execution_count": 77,
   "metadata": {
    "collapsed": true
   },
   "outputs": [],
   "source": [
    "grade_submitter.set_answer(\"0ENlN\", prediction_test)"
   ]
  },
  {
   "cell_type": "code",
   "execution_count": 78,
   "metadata": {
    "collapsed": true
   },
   "outputs": [],
   "source": [
    "loss_test = s.run(\n",
    "    loss, {\n",
    "        input_X: X[:100],\n",
    "        input_y: y[-100:],\n",
    "        weights: test_weights+1.21e-3,\n",
    "        b: -1e-1})\n",
    "# Yes, the X/y indices mistmach is intentional"
   ]
  },
  {
   "cell_type": "code",
   "execution_count": 79,
   "metadata": {
    "collapsed": true
   },
   "outputs": [],
   "source": [
    "grade_submitter.set_answer(\"mMVpM\", loss_test)"
   ]
  },
  {
   "cell_type": "code",
   "execution_count": 80,
   "metadata": {
    "collapsed": true
   },
   "outputs": [],
   "source": [
    "grade_submitter.set_answer(\"D16Rc\", roc_auc_score(y_test, s.run(predicted_y, {input_X:X_test})))"
   ]
  },
  {
   "cell_type": "markdown",
   "metadata": {},
   "source": [
    "Please use the credentials obtained from the Coursera assignment page."
   ]
  },
  {
   "cell_type": "code",
   "execution_count": 82,
   "metadata": {},
   "outputs": [
    {
     "name": "stdout",
     "output_type": "stream",
     "text": [
      "Submitted to Coursera platform. See results on assignment page!\n"
     ]
    }
   ],
   "source": [
    "grade_submitter.submit('nguyenthanhchinh96@gmail.com',\n",
    "                        '4Ay7NNzGoAJ95frO')"
   ]
  },
  {
   "cell_type": "code",
   "execution_count": null,
   "metadata": {
    "collapsed": true
   },
   "outputs": [],
   "source": []
  }
 ],
 "metadata": {
  "kernelspec": {
   "display_name": "Python 3",
   "language": "python",
   "name": "python3"
  },
  "language_info": {
   "codemirror_mode": {
    "name": "ipython",
    "version": 3
   },
   "file_extension": ".py",
   "mimetype": "text/x-python",
   "name": "python",
   "nbconvert_exporter": "python",
   "pygments_lexer": "ipython3",
   "version": "3.6.0"
  }
 },
 "nbformat": 4,
 "nbformat_minor": 1
}
